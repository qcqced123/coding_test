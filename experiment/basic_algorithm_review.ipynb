{
 "cells": [
  {
   "cell_type": "code",
   "id": "initial_id",
   "metadata": {
    "collapsed": true,
    "ExecuteTime": {
     "end_time": "2024-09-20T02:00:33.363349Z",
     "start_time": "2024-09-20T02:00:33.357810Z"
    }
   },
   "source": [
    "import sys\n",
    "import heapq\n",
    "from collections import defaultdict, deque\n",
    "from typing import List, Dict, Callable, Tuple\n",
    "from itertools import combinations, permutations"
   ],
   "outputs": [],
   "execution_count": 1
  },
  {
   "metadata": {},
   "cell_type": "code",
   "outputs": [],
   "execution_count": null,
   "source": [
    "\"\"\" dfs, bfs review code\n",
    "1) dfs: depth-first search\n",
    "2) bfs: breadth-first search\n",
    "\n",
    "\"\"\"\n",
    "\n",
    "\n",
    "def is_valid(graph, max_y: int, max_x: int, ny: int, nx: int) -> bool:\n",
    "    \"\"\" check the if agent can go to new destination \"\"\"\n",
    "    return -1 < ny < max_y and -1 < nx < max_x and not graph[ny][nx]\n",
    "\n",
    "\n",
    "def dfs(graph: List[List[int]], y: int, x: int):\n",
    "    \"\"\" depth first search function, implemented by stack frame\n",
    "    1) get new destination from current state\n",
    "    2) check the new destination\n",
    "    3) record the visit\n",
    "    4) jump to new stack frame\n",
    "    \"\"\"\n",
    "    for i in range(4):\n",
    "        ny, nx = y + dy[i], x + dx[i]\n",
    "        if is_valid(graph, 5, 5, ny, nx):\n",
    "            graph[ny][nx] = 1\n",
    "            dfs(graph, ny, nx)\n",
    "    \n",
    "    return\n",
    "        \n",
    "\n",
    "def iteration_dfs(graph, y, x):\n",
    "    \"\"\" depth-first search function, implemented by iteration with list stack\n",
    "    이렇게 짜면 에이전트가 항상 오른쪽부터 깊이 탐색을 하니까 리버스를 해줘도 되겠다\n",
    "    \"\"\"\n",
    "    q = [(y,x)]\n",
    "    while q:\n",
    "        vy, vx = q.pop()\n",
    "        for i in range(4):\n",
    "            ny, nx = vy + dy[i], vx + dx[i]\n",
    "            if is_valid(graph, 5, 5, ny, nx):\n",
    "                graph[ny][nx] = 1\n",
    "                q.append((ny, nx))\n",
    "    return\n",
    "\n",
    "\n",
    "def bfs(graph, y, x):\n",
    "    \"\"\" breadth first search function, implemented by iteration with deque \"\"\"\n",
    "    q = deque([(y,x)])\n",
    "    while q:\n",
    "        vy, vx = q.popleft()\n",
    "        for i in range(4):\n",
    "            ny, nx = dy[i] + vy, dx[i] + vx\n",
    "            if is_valid(graph, 5, 5, ny, nx):\n",
    "                graph[ny][nx] = 1\n",
    "                q.append((ny, nx))\n",
    "    return\n",
    "\n",
    "dy, dx = (-1, 1, 0, 0), (0, 0, -1, 1)"
   ],
   "id": "c974faf3f3e13ec7"
  },
  {
   "metadata": {},
   "cell_type": "code",
   "outputs": [],
   "execution_count": null,
   "source": [
    "\"\"\" dijkstra, floyd warshall, bellman-ford review code \"\"\"\n",
    "\n",
    "\n",
    "def dijkstra():\n",
    "    pass\n",
    "\n",
    "\n",
    "def floyd_warshall():\n",
    "    pass\n",
    "\n",
    "\n",
    "def bellman_fold():\n",
    "    pass"
   ],
   "id": "50699cc7988af3c1"
  },
  {
   "metadata": {},
   "cell_type": "code",
   "outputs": [],
   "execution_count": null,
   "source": [
    "\"\"\" bi-sect review code \"\"\"\n",
    "\n",
    "\n",
    "def bi_sect():\n",
    "    pass"
   ],
   "id": "4f970f6dbb60deea"
  },
  {
   "metadata": {},
   "cell_type": "code",
   "outputs": [],
   "execution_count": null,
   "source": [
    "\"\"\" fibonacci algorithm review code\n",
    "\n",
    "1) recursive call with BF\n",
    "2) recursive call with memoization\n",
    "3) tabulation \n",
    "\"\"\"\n",
    "\n",
    "\n",
    "def fibo():\n",
    "    pass"
   ],
   "id": "24dee74736c29034"
  },
  {
   "metadata": {},
   "cell_type": "code",
   "outputs": [],
   "execution_count": null,
   "source": [
    "\"\"\" union find review code \"\"\"\n",
    "\n",
    "\n",
    "def find():\n",
    "    pass\n",
    "\n",
    "def union():\n",
    "    pass"
   ],
   "id": "7aa7baad9dc7bc3b"
  },
  {
   "metadata": {},
   "cell_type": "code",
   "outputs": [],
   "execution_count": null,
   "source": [
    "\"\"\" kruskal, prim review code \"\"\"\n",
    "\n",
    "def kruskal():\n",
    "    pass\n",
    "\n",
    "\n",
    "def prim():\n",
    "    pass"
   ],
   "id": "595a940998de07d5"
  },
  {
   "metadata": {},
   "cell_type": "code",
   "outputs": [],
   "execution_count": null,
   "source": [
    "\"\"\" sliding window, two pointer review code \"\"\"\n",
    "\n",
    "\n",
    "def sliding_window():\n",
    "    pass\n",
    "\n",
    "\n",
    "def two_pointer():\n",
    "    pass"
   ],
   "id": "bfcaf410ba77911d"
  },
  {
   "metadata": {},
   "cell_type": "code",
   "outputs": [],
   "execution_count": null,
   "source": [
    "\"\"\" combination, permutation review code \"\"\"\n",
    "\n",
    "\n",
    "def combination():\n",
    "    pass\n",
    "\n",
    "\n",
    "def permutation():\n",
    "    pass"
   ],
   "id": "177939656d29efe9"
  }
 ],
 "metadata": {
  "kernelspec": {
   "display_name": "Python 3",
   "language": "python",
   "name": "python3"
  },
  "language_info": {
   "codemirror_mode": {
    "name": "ipython",
    "version": 2
   },
   "file_extension": ".py",
   "mimetype": "text/x-python",
   "name": "python",
   "nbconvert_exporter": "python",
   "pygments_lexer": "ipython2",
   "version": "2.7.6"
  }
 },
 "nbformat": 4,
 "nbformat_minor": 5
}
