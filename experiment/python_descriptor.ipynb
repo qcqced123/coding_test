{
 "cells": [
  {
   "cell_type": "code",
   "id": "initial_id",
   "metadata": {
    "collapsed": true,
    "ExecuteTime": {
     "end_time": "2024-09-26T01:31:37.507174Z",
     "start_time": "2024-09-26T01:31:37.503864Z"
    }
   },
   "source": [
    "\"\"\" not using descriptor \"\"\"\n",
    "\n",
    "\n",
    "class Attribute:\n",
    "    value = 42\n",
    "    \n",
    "class Client:\n",
    "    # class member attribute, if you initialize this value in __init__ method,\n",
    "    # this value will be instance member attribute\n",
    "    attribute = Attribute()  \n",
    "    \n",
    "print(f\"{Client.attribute}\", end='\\n\\n')\n",
    "print(f\"{Client.attribute.value}\")"
   ],
   "outputs": [
    {
     "name": "stdout",
     "output_type": "stream",
     "text": [
      "<__main__.Attribute object at 0x111084d60>\n",
      "\n",
      "42\n"
     ]
    }
   ],
   "execution_count": 5
  },
  {
   "metadata": {
    "ExecuteTime": {
     "end_time": "2024-09-26T01:43:55.059988Z",
     "start_time": "2024-09-26T01:43:55.054652Z"
    }
   },
   "cell_type": "code",
   "source": [
    "\"\"\" using descriptor \"\"\"\n",
    "import logging\n",
    "\n",
    "class DescriptorClass:\n",
    "    def __get__(self, instance, owner) -> object:\n",
    "        \"\"\"\n",
    "        Args:\n",
    "            instance (object): instance of descriptor object\n",
    "            owner (object): owner of descriptor\n",
    "        \"\"\"\n",
    "        if instance is None:\n",
    "            return self  # self를 리턴한다는건 인스턴스화 하겠다는건가??\n",
    "        logging.info(\n",
    "            \"%s.__get__ 메서드 호출(%r, %r)\",\n",
    "            self.__class__.__name__,\n",
    "            instance,\n",
    "            owner\n",
    "        )\n",
    "        return instance  # Descriptor의 인스턴스\n",
    "    \n",
    "    \n",
    "class ClientClass:\n",
    "    descriptor = DescriptorClass()\n",
    "    \n",
    "\n",
    "client = ClientClass()\n",
    "print(f\"result of applying descriptor in class: {client.descriptor}\", end='\\n\\n')\n",
    "print(f\"{client.descriptor is client}\")"
   ],
   "id": "6c685e86eb4a1023",
   "outputs": [
    {
     "name": "stdout",
     "output_type": "stream",
     "text": [
      "[26/Sep/2024 10:43:55] INFO - DescriptorClass.__get__ 메서드 호출(<__main__.ClientClass object at 0x113118190>, <class '__main__.ClientClass'>)\n",
      "result of applying descriptor in class: <__main__.ClientClass object at 0x113118190>\n",
      "\n",
      "[26/Sep/2024 10:43:55] INFO - DescriptorClass.__get__ 메서드 호출(<__main__.ClientClass object at 0x113118190>, <class '__main__.ClientClass'>)\n",
      "True\n"
     ]
    }
   ],
   "execution_count": 12
  },
  {
   "metadata": {},
   "cell_type": "code",
   "outputs": [],
   "execution_count": null,
   "source": [
    "\"\"\" advantage of using descriptor \"\"\"\n",
    "\n",
    "\n",
    "class Celsius:\n",
    "    def __init__(self, value=0.0):\n",
    "        self._temperature = float(value)\n",
    "    \n",
    "    def __get__(self, instance, owner):\n",
    "        return self._temperature\n",
    "\n",
    "    def __set__(self, instance, value):\n",
    "        if value < -273.15:\n",
    "            raise ValueError(\"Temperature below -273.15 is not possible\")\n",
    "        self._temperature = value\n",
    "\n",
    "class Thermometer:\n",
    "    temperature = Celsius()\n",
    "\n",
    "# 사용 예시\n",
    "# 값을 설정, 가져와서 출력하는 것도 이것보다 복잡하고, 더 많은 속성값을 타고 들어가야 하는데, 비교적 간단하고 단순해 보이게 만들어줌\n",
    "t = Thermometer()\n",
    "t.temperature = 36.6  # 값 설정\n",
    "print(t.temperature)  # 36.6 출력\n",
    "t.temperature = -300  # ValueError 발생\n"
   ],
   "id": "c05539221006fcb1"
  }
 ],
 "metadata": {
  "kernelspec": {
   "display_name": "Python 3",
   "language": "python",
   "name": "python3"
  },
  "language_info": {
   "codemirror_mode": {
    "name": "ipython",
    "version": 2
   },
   "file_extension": ".py",
   "mimetype": "text/x-python",
   "name": "python",
   "nbconvert_exporter": "python",
   "pygments_lexer": "ipython2",
   "version": "2.7.6"
  }
 },
 "nbformat": 4,
 "nbformat_minor": 5
}
