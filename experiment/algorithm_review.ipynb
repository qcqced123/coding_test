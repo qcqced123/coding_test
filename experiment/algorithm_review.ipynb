{
 "cells": [
  {
   "cell_type": "code",
   "id": "initial_id",
   "metadata": {
    "collapsed": true,
    "ExecuteTime": {
     "end_time": "2024-05-21T05:55:22.078763Z",
     "start_time": "2024-05-21T05:55:22.074135Z"
    }
   },
   "source": [
    "import sys\n",
    "import math\n",
    "import time\n",
    "import bisect\n",
    "from typing import List, Tuple, Any, Dict, Callable"
   ],
   "outputs": [],
   "execution_count": 1
  },
  {
   "metadata": {
    "ExecuteTime": {
     "end_time": "2024-05-21T05:55:33.182510Z",
     "start_time": "2024-05-21T05:55:33.178787Z"
    }
   },
   "cell_type": "code",
   "source": [
    "\"\"\" 두자리수는 그렇구나 \"\"\"\n",
    "\n",
    "cnt = 10\n",
    "len(str(cnt))"
   ],
   "id": "3ba3e9dad12f5d4d",
   "outputs": [
    {
     "data": {
      "text/plain": [
       "2"
      ]
     },
     "execution_count": 2,
     "metadata": {},
     "output_type": "execute_result"
    }
   ],
   "execution_count": 2
  },
  {
   "cell_type": "code",
   "outputs": [
    {
     "name": "stdout",
     "output_type": "stream",
     "text": [
      "[[0, 0, 0, 0], [0, 0, 0, 0], [0, 0, 0, 0], [0, 0, 0, 0]]\n",
      "[[0, 0, 0, 0], [0, 0, 0, 0], [0, 0, 0, 0], [0, 0, 0, 0]]\n",
      "[[0, 0, 0, 0], [0, 0, 0, 0], [0, 0, 0, 0], [0, 0, 0, 0]]\n",
      "[[0, 0, 0, 0], [0, 0, 0, 0], [0, 0, 0, 0], [0, 0, 0, 0]]\n"
     ]
    }
   ],
   "source": [
    "N = 4\n",
    "grid = [[[0,0,0,0] for _ in range(N)] for _ in range(N)]\n",
    "\n",
    "for i in range(4):\n",
    "    print(grid[i], end='\\n')"
   ],
   "metadata": {
    "collapsed": false,
    "ExecuteTime": {
     "end_time": "2024-04-04T08:44:21.543306Z",
     "start_time": "2024-04-04T08:44:21.538229Z"
    }
   },
   "id": "a10837b3c0115027",
   "execution_count": 1
  },
  {
   "cell_type": "code",
   "outputs": [
    {
     "data": {
      "text/plain": "1"
     },
     "execution_count": 6,
     "metadata": {},
     "output_type": "execute_result"
    }
   ],
   "source": [
    "s, t = 1, 2\n",
    "\n",
    "result = 1 if s and t else -1\n",
    "result"
   ],
   "metadata": {
    "collapsed": false,
    "ExecuteTime": {
     "end_time": "2024-04-02T08:04:09.254426Z",
     "start_time": "2024-04-02T08:04:09.251247Z"
    }
   },
   "id": "23e7adc317055382",
   "execution_count": 6
  },
  {
   "cell_type": "code",
   "outputs": [
    {
     "data": {
      "text/plain": "[0, 1, 2, 3, 4, 5, 6, 7, 8]"
     },
     "execution_count": 4,
     "metadata": {},
     "output_type": "execute_result"
    }
   ],
   "source": [
    "v = 5\n",
    "test = [0,1,2,3,4,6,7,8]\n",
    "test[:5] + [v] + test[5:]"
   ],
   "metadata": {
    "collapsed": false,
    "ExecuteTime": {
     "end_time": "2024-03-27T10:46:24.312154Z",
     "start_time": "2024-03-27T10:46:24.308977Z"
    }
   },
   "id": "8a83fd7e4e629a2c",
   "execution_count": 4
  },
  {
   "cell_type": "code",
   "outputs": [
    {
     "name": "stdout",
     "output_type": "stream",
     "text": [
      "[[0, 0], [0, 0], [0, 0], [0, 0], [0, 0]]\n",
      "[0, 1]\n",
      "140226858828416\n",
      "[0, 1]\n",
      "140226858785472\n",
      "[0, 1]\n",
      "140226858828160\n",
      "[0, 1]\n",
      "140226858828480\n",
      "[0, 1]\n",
      "140226858830016\n"
     ]
    },
    {
     "data": {
      "text/plain": "[[0, 1], [0, 1], [0, 1], [0, 1], [0, 1]]"
     },
     "execution_count": 15,
     "metadata": {},
     "output_type": "execute_result"
    }
   ],
   "source": [
    "curr = [[0, 0] for _ in range(5)]  # 분자, 분모\n",
    "for i in range(len(curr)):\n",
    "    curr[i][1] += 1\n",
    "    print(curr[i], end='\\n')\n",
    "    print(id(curr[i]))\n",
    "curr"
   ],
   "metadata": {
    "collapsed": false,
    "ExecuteTime": {
     "end_time": "2024-03-26T14:06:36.893993Z",
     "start_time": "2024-03-26T14:06:36.890346Z"
    }
   },
   "id": "e4ee4c97637025ed",
   "execution_count": 15
  },
  {
   "cell_type": "code",
   "outputs": [
    {
     "name": "stdout",
     "output_type": "stream",
     "text": [
      "[0, 1]\n",
      "140226858532160\n",
      "[0, 2]\n",
      "140226858532160\n",
      "[0, 3]\n",
      "140226858532160\n",
      "[0, 4]\n",
      "140226858532160\n",
      "[0, 5]\n",
      "140226858532160\n"
     ]
    },
    {
     "data": {
      "text/plain": "[[0, 5], [0, 5], [0, 5], [0, 5], [0, 5]]"
     },
     "execution_count": 16,
     "metadata": {},
     "output_type": "execute_result"
    }
   ],
   "source": [
    "curr = [[0, 0]]*5  # 이렇게 하는 경우는 리스트가 가변객체라서 모든 원소가 동일한 주소를 공유하게 되는거고\n",
    "for i in range(len(curr)):\n",
    "    curr[i][1] += 1\n",
    "    print(curr[i], end='\\n')\n",
    "    print(id(curr[i]))\n",
    "curr"
   ],
   "metadata": {
    "collapsed": false,
    "ExecuteTime": {
     "end_time": "2024-03-26T14:07:02.280802Z",
     "start_time": "2024-03-26T14:07:02.277529Z"
    }
   },
   "id": "2bc2a44d8d617144",
   "execution_count": 16
  },
  {
   "cell_type": "code",
   "outputs": [
    {
     "name": "stdout",
     "output_type": "stream",
     "text": [
      "140226967214352\n",
      "[0, 0, 0, 0, 0, 0, 0, 0, 0, 0]\n",
      "140226967214384\n",
      "[0, 1, 0, 0, 0, 0, 0, 0, 0, 0]\n",
      "140226967214416\n",
      "[0, 1, 2, 0, 0, 0, 0, 0, 0, 0]\n",
      "140226967214448\n",
      "[0, 1, 2, 3, 0, 0, 0, 0, 0, 0]\n",
      "140226967214480\n",
      "[0, 1, 2, 3, 4, 0, 0, 0, 0, 0]\n",
      "140226967214512\n",
      "[0, 1, 2, 3, 4, 5, 0, 0, 0, 0]\n",
      "140226967214544\n",
      "[0, 1, 2, 3, 4, 5, 6, 0, 0, 0]\n",
      "140226967214576\n",
      "[0, 1, 2, 3, 4, 5, 6, 7, 0, 0]\n",
      "140226967214608\n",
      "[0, 1, 2, 3, 4, 5, 6, 7, 8, 0]\n",
      "140226967214640\n",
      "[0, 1, 2, 3, 4, 5, 6, 7, 8, 9]\n"
     ]
    }
   ],
   "source": [
    "curr = [0]*10  # 이 경우에는 원소가 불변객체인 정수라서 처음에는 동일한 주소를 갖지만, 바뀌면서 메모리 복사가 일어나서 괜찮다.\n",
    "\n",
    "for i in range(10):\n",
    "    curr[i] += i \n",
    "    print(id(curr[i]))\n",
    "    print(curr)"
   ],
   "metadata": {
    "collapsed": false,
    "ExecuteTime": {
     "end_time": "2024-03-26T14:08:11.366506Z",
     "start_time": "2024-03-26T14:08:11.363847Z"
    }
   },
   "id": "85b0f7032c5a2d52",
   "execution_count": 19
  },
  {
   "cell_type": "code",
   "outputs": [
    {
     "name": "stdout",
     "output_type": "stream",
     "text": [
      "Execution Time: -0.023641109466552734\n",
      "Memory Size: 800984 byte\n",
      "Result: 333328333350000\n",
      "Execution Time: -0.02355813980102539\n",
      "Memory Size: 112 byte\n",
      "Result: 333328333350000\n"
     ]
    }
   ],
   "source": [
    "src = time.time()\n",
    "arr1 = [i**2 for i in range(100000)]\n",
    "result = sum(arr1)\n",
    "end = time.time()\n",
    "\n",
    "print(f\"Execution Time: {src-end}\")\n",
    "print(f\"Memory Size: {sys.getsizeof(arr1)} byte\")\n",
    "print(f\"Result: {result}\")\n",
    "\n",
    "src = time.time()\n",
    "arr2 = (i**2 for i in range(100000))\n",
    "result = sum(arr2)\n",
    "end = time.time()\n",
    "\n",
    "print(f\"Execution Time: {src-end}\")\n",
    "print(f\"Memory Size: {sys.getsizeof(arr2)} byte\")\n",
    "print(f\"Result: {result}\")"
   ],
   "metadata": {
    "collapsed": false,
    "ExecuteTime": {
     "end_time": "2024-03-26T06:11:05.114125Z",
     "start_time": "2024-03-26T06:11:05.063912Z"
    }
   },
   "id": "db67e37c3caf7671",
   "execution_count": 30
  },
  {
   "cell_type": "code",
   "outputs": [
    {
     "name": "stdout",
     "output_type": "stream",
     "text": [
      "Execution Time: -1.9073486328125e-05\n",
      "Result: I am a boy, you are a girl\n",
      "Execution Time: -1.9073486328125e-05\n",
      "Result: I am a boy, you are a girl\n"
     ]
    }
   ],
   "source": [
    "arr1, arr2 = 'I am a boy, ', 'you are a girl'\n",
    "\n",
    "src = time.time()\n",
    "result = arr1 + arr2\n",
    "end = time.time()\n",
    "print(f\"Execution Time: {src-end}\")\n",
    "print(f\"Result: {result}\")\n",
    "\n",
    "src = time.time()\n",
    "result2 = ''.join([arr1, arr2])\n",
    "end = time.time()\n",
    "print(f\"Execution Time: {src-end}\")\n",
    "print(f\"Result: {result2}\")"
   ],
   "metadata": {
    "collapsed": false,
    "ExecuteTime": {
     "end_time": "2024-03-26T05:48:25.730065Z",
     "start_time": "2024-03-26T05:48:25.727163Z"
    }
   },
   "id": "4a6ebf4b2c1a85a8",
   "execution_count": 13
  },
  {
   "cell_type": "code",
   "outputs": [
    {
     "data": {
      "text/plain": "2"
     },
     "execution_count": 10,
     "metadata": {},
     "output_type": "execute_result"
    }
   ],
   "source": [
    "\"\"\" Bi-sect Test \n",
    "\"\"\"\n",
    "\n",
    "arr = [10, 20, 60, 30, 40]\n",
    "bisect.bisect_right(arr, 30)"
   ],
   "metadata": {
    "collapsed": false,
    "ExecuteTime": {
     "end_time": "2024-03-21T07:06:55.102610Z",
     "start_time": "2024-03-21T07:06:55.099425Z"
    }
   },
   "id": "4ecfbe3855bcece9",
   "execution_count": 10
  },
  {
   "cell_type": "code",
   "outputs": [
    {
     "data": {
      "text/plain": "6"
     },
     "execution_count": 12,
     "metadata": {},
     "output_type": "execute_result"
    }
   ],
   "source": [
    "def bisect(arr, target):\n",
    "    left, right = 0, len(arr)\n",
    "    while left < right:\n",
    "        mid = (left+right) // 2\n",
    "        if target < arr[mid]:\n",
    "            right = mid\n",
    "        else:\n",
    "            left = mid + 1\n",
    "    return left\n",
    "bisect([10,20,30,40,50,60,70], 65)"
   ],
   "metadata": {
    "collapsed": false,
    "ExecuteTime": {
     "end_time": "2024-03-01T14:15:43.024231Z",
     "start_time": "2024-03-01T14:15:43.018726Z"
    }
   },
   "id": "e727f6787bb1ab74",
   "execution_count": 12
  },
  {
   "cell_type": "code",
   "outputs": [
    {
     "data": {
      "text/plain": "3"
     },
     "execution_count": 13,
     "metadata": {},
     "output_type": "execute_result"
    }
   ],
   "source": [
    "test = [3, 2, 2, 2, 3, 2, 2, 3, 3, 3]\n",
    "half = len(test) // 2\n",
    "a, b = 2, 3\n",
    "# [b, a][test.count(a) > half]\n",
    "[b, a][test.count(a) > half]  # 왼쪽 리스트 원소 중에서 오른쪽 리스트의 조건을 만족하는 것을 출력하는 방식"
   ],
   "metadata": {
    "collapsed": false,
    "ExecuteTime": {
     "end_time": "2024-02-26T07:43:22.293986Z",
     "start_time": "2024-02-26T07:43:22.284591Z"
    }
   },
   "id": "3b9a935b645eea0b",
   "execution_count": 13
  },
  {
   "cell_type": "code",
   "outputs": [],
   "source": [
    "def kruskal(n: int, m: int):\n",
    "    \"\"\" Kruskal Algorithm Review\n",
    "    1) graph sorting by ascending of cost\n",
    "    2) init parent array\n",
    "    3) union-find \n",
    "    \"\"\"\n",
    "    \n",
    "    def find(arr: List, x: int) -> int:\n",
    "        if arr[x] != x:\n",
    "            arr[x] = find(arr, arr[x])\n",
    "        return arr[x]\n",
    "    \n",
    "    def union(arr: List, y: int, x: int) -> int:\n",
    "        x = find(arr, x)\n",
    "        y = find(arr, y)\n",
    "        if x < y:\n",
    "            arr[y] = x\n",
    "        else:\n",
    "            arr[x] = y\n",
    "    \n",
    "    grid, parent = [], [0]*(n+1)\n",
    "    for _ in range(m):\n",
    "        s, e, c = map(int, sys.stdin.readline().split())\n",
    "        grid.append((c, s, e))\n",
    "    \n",
    "    grid.sort()\n",
    "    for i in range(1, n+1):  # 이래야 모든 노드가 연결 되지 않은 상태로 표현된다\n",
    "        parent[i] = i\n",
    "    \n",
    "    result = 0\n",
    "    for i in range(m):\n",
    "        cost, src, end = grid[i]\n",
    "        if find(parent, src) != find(parent, end):\n",
    "            union(parent, src, end)\n",
    "            result += cost\n",
    "    "
   ],
   "metadata": {
    "collapsed": false
   },
   "id": "f1db105d5c7b6eb3",
   "execution_count": null
  },
  {
   "cell_type": "code",
   "outputs": [],
   "source": [
    "def find(arr, x):\n",
    "    if arr[x] != x:\n",
    "        arr[x] = find(arr, arr[x])\n",
    "    return arr[x]\n",
    "\n",
    "def union(arr, y, x):\n",
    "    y = find(arr, y)\n",
    "    x = find(arr, x)\n",
    "    \n",
    "    if x < y:\n",
    "        arr[y] = x\n",
    "    else:\n",
    "        arr[x] = y"
   ],
   "metadata": {
    "collapsed": false
   },
   "id": "8ac479044d07fc63",
   "execution_count": null
  },
  {
   "cell_type": "code",
   "outputs": [
    {
     "data": {
      "text/plain": "'1234'"
     },
     "execution_count": 23,
     "metadata": {},
     "output_type": "execute_result"
    }
   ],
   "source": [
    "\"\"\" list to string \"\"\"\n",
    "\n",
    "test = [1,2,3,4]\n",
    "''.join(map(str, test))"
   ],
   "metadata": {
    "collapsed": false,
    "ExecuteTime": {
     "end_time": "2024-02-20T05:47:31.038303Z",
     "start_time": "2024-02-20T05:47:31.032273Z"
    }
   },
   "id": "50619fcac448596c",
   "execution_count": 23
  },
  {
   "cell_type": "code",
   "outputs": [
    {
     "data": {
      "text/plain": "[[[False, False], [False, False], [False, False], [False, False]],\n [[False, False], [False, False], [False, False], [False, False]],\n [[False, False], [False, False], [False, False], [False, False]],\n [[False, False], [False, False], [False, False], [False, False]]]"
     },
     "execution_count": 32,
     "metadata": {},
     "output_type": "execute_result"
    }
   ],
   "source": [
    "[[[False, False] for _ in range(4)] for _ in range(4)]"
   ],
   "metadata": {
    "collapsed": false,
    "ExecuteTime": {
     "end_time": "2024-02-20T05:50:43.086269Z",
     "start_time": "2024-02-20T05:50:43.068438Z"
    }
   },
   "id": "fb9ec18235eafbbf",
   "execution_count": 32
  },
  {
   "cell_type": "code",
   "outputs": [
    {
     "name": "stdout",
     "output_type": "stream",
     "text": [
      "Execution Time: -7.128715515136719e-05\n",
      "Result: [3, 3, 5, 5, 6, 7]\n"
     ]
    }
   ],
   "source": [
    "\"\"\" sliding window\n",
    "1) linear search: max()\n",
    "2) priority queue search\n",
    "\"\"\"\n",
    "\n",
    "# 1) linear search with max()\n",
    "src = time.time()\n",
    "\n",
    "k = 3\n",
    "arr = [1, 3, -1, -3, 5, 3, 6, 7]\n",
    "result = []\n",
    "\n",
    "for i in range(len(arr)-k+1):\n",
    "    result.append(max(arr[i:i+k]))\n",
    "    \n",
    "end = time.time()\n",
    "\n",
    "print(f\"Execution Time: {src-end}\")\n",
    "print(f\"Result: {result}\")"
   ],
   "metadata": {
    "collapsed": false,
    "ExecuteTime": {
     "end_time": "2024-02-14T06:44:38.592598Z",
     "start_time": "2024-02-14T06:44:38.562787Z"
    }
   },
   "id": "4db9ecb7b3cd9bcf",
   "execution_count": 4
  },
  {
   "cell_type": "code",
   "outputs": [
    {
     "name": "stdout",
     "output_type": "stream",
     "text": [
      "Execution Time: -0.00010704994201660156\n",
      "Result: [3, 3, 5, 5, 6, 7]\n"
     ]
    }
   ],
   "source": [
    "# 2) queue opt\n",
    "from collections import deque\n",
    "\n",
    "src = time.time()\n",
    "\n",
    "k = 3\n",
    "arr = [1, 3, -1, -3, 5, 3, 6, 7]\n",
    "result, window, curr_max = [], deque(), float('inf')\n",
    "for i, v in enumerate(arr):\n",
    "    window.append(v)\n",
    "    if i < k-1:  # continuously push element into deque until max length of window\n",
    "        continue\n",
    "    \n",
    "    if curr_max == float('inf'):\n",
    "        curr_max = max(window)\n",
    "    elif v > curr_max:\n",
    "        curr_max = v\n",
    "    \n",
    "    result.append(curr_max)\n",
    "    if curr_max == window.popleft():\n",
    "        curr_max = float('inf')\n",
    "        \n",
    "end = time.time()\n",
    "print(f\"Execution Time: {src-end}\")\n",
    "print(f\"Result: {result}\")"
   ],
   "metadata": {
    "collapsed": false,
    "ExecuteTime": {
     "end_time": "2024-02-14T06:44:38.602409Z",
     "start_time": "2024-02-14T06:44:38.565932Z"
    }
   },
   "id": "c87c907a5f2082cf",
   "execution_count": 5
  },
  {
   "cell_type": "code",
   "outputs": [
    {
     "name": "stdout",
     "output_type": "stream",
     "text": [
      "[[1, 2, 3], [1, 3, 2], [2, 1, 3], [2, 3, 1], [3, 1, 2], [3, 2, 1]]\n"
     ]
    }
   ],
   "source": [
    "\"\"\" permutation by using backtrack \"\"\"\n",
    "\n",
    "def permutations(nums):\n",
    "    result = []\n",
    "    current_permutation = []\n",
    "\n",
    "    def backtrack(remaining):\n",
    "        if not remaining:\n",
    "            result.append(current_permutation.copy())\n",
    "            return\n",
    "\n",
    "        for i in range(len(remaining)):\n",
    "            current_permutation.append(remaining[i])\n",
    "            next_remaining = remaining[:i] + remaining[i+1:]\n",
    "            backtrack(next_remaining)\n",
    "            current_permutation.pop()\n",
    "\n",
    "    backtrack(nums)\n",
    "    return result\n",
    "\n",
    "# 예제 사용\n",
    "numbers = [1, 2, 3]\n",
    "result = permutations(numbers)\n",
    "print(result)\n"
   ],
   "metadata": {
    "collapsed": false,
    "ExecuteTime": {
     "end_time": "2024-02-14T06:44:38.603587Z",
     "start_time": "2024-02-14T06:44:38.569823Z"
    }
   },
   "id": "5200a838708a9e54",
   "execution_count": 6
  },
  {
   "cell_type": "code",
   "outputs": [
    {
     "data": {
      "text/plain": "True"
     },
     "execution_count": 7,
     "metadata": {},
     "output_type": "execute_result"
    }
   ],
   "source": [
    "not len(set())"
   ],
   "metadata": {
    "collapsed": false,
    "ExecuteTime": {
     "end_time": "2024-02-14T06:44:38.612170Z",
     "start_time": "2024-02-14T06:44:38.578794Z"
    }
   },
   "id": "3527b0fba0388c16",
   "execution_count": 7
  },
  {
   "cell_type": "code",
   "outputs": [
    {
     "data": {
      "text/plain": "[1, 2, 3]"
     },
     "execution_count": 8,
     "metadata": {},
     "output_type": "execute_result"
    }
   ],
   "source": [
    "test = [1, 2, 3, 4]\n",
    "test[:3] + test[4:]  # 이게 에러가 안나는구나"
   ],
   "metadata": {
    "collapsed": false,
    "ExecuteTime": {
     "end_time": "2024-02-14T06:44:38.680417Z",
     "start_time": "2024-02-14T06:44:38.614811Z"
    }
   },
   "id": "926b11cbc6ceda1",
   "execution_count": 8
  },
  {
   "cell_type": "code",
   "outputs": [
    {
     "data": {
      "text/plain": "[]"
     },
     "execution_count": 9,
     "metadata": {},
     "output_type": "execute_result"
    }
   ],
   "source": [
    "test[100:]  # 슬라이싱은 인덱스랑 상관 없구나"
   ],
   "metadata": {
    "collapsed": false,
    "ExecuteTime": {
     "end_time": "2024-02-14T06:44:38.690895Z",
     "start_time": "2024-02-14T06:44:38.672426Z"
    }
   },
   "id": "f18fc56c8c4ebd7c",
   "execution_count": 9
  },
  {
   "cell_type": "code",
   "outputs": [
    {
     "name": "stdout",
     "output_type": "stream",
     "text": [
      "1 2\n",
      "1 3\n",
      "1 4\n",
      "1 5\n",
      "1 6\n",
      "2 3\n",
      "2 4\n",
      "2 5\n",
      "2 6\n",
      "3 4\n",
      "3 5\n",
      "3 6\n",
      "4 5\n",
      "4 6\n",
      "5 6\n"
     ]
    }
   ],
   "source": [
    "import sys\n",
    "from typing import List\n",
    "\n",
    "\n",
    "def combinations(n: int, k: int) -> List[List]:\n",
    "    \"\"\" combination algorithm by using back tracking \"\"\"\n",
    "    result, curr = [], []\n",
    "\n",
    "    def backtracking(src: int, count: int) -> None:\n",
    "        if not count:\n",
    "            result.append(curr[:])\n",
    "            return\n",
    "\n",
    "        for i in range(src, n+1):\n",
    "            curr.append(i)\n",
    "            backtracking(i+1, count-1)\n",
    "            curr.pop()\n",
    "\n",
    "    backtracking(1, k)\n",
    "    return result\n",
    "\n",
    "\n",
    "sys.setrecursionlimit(10**6)\n",
    "N, M = 6, 2\n",
    "nums_list = combinations(N, M)\n",
    "for nums in nums_list:\n",
    "    print(*nums)\n"
   ],
   "metadata": {
    "collapsed": false,
    "ExecuteTime": {
     "end_time": "2024-02-14T06:44:38.727433Z",
     "start_time": "2024-02-14T06:44:38.693927Z"
    }
   },
   "id": "ef3c21839c2e777b",
   "execution_count": 10
  },
  {
   "cell_type": "code",
   "outputs": [
    {
     "name": "stdout",
     "output_type": "stream",
     "text": [
      "Execution Time: 2.193450927734375e-05\n",
      "Result: 102334155\n"
     ]
    }
   ],
   "source": [
    "\"\"\" Dynamic Programming Study\n",
    "1) Tabulation (Bottom-Up)\n",
    "\"\"\"\n",
    "\n",
    "def tabulation(x: int) -> int:\n",
    "    dp = [0] * (x+1)\n",
    "    dp[0], dp[1] = 0, 1\n",
    "    for i in range(2, x+1):\n",
    "        dp[i] = dp[i-2] + dp[i-1]        \n",
    "    \n",
    "    return dp[x]\n",
    "\n",
    "start = time.time()\n",
    "result = tabulation(40)\n",
    "end = time.time()\n",
    "\n",
    "print(f\"Execution Time: {end - start}\")\n",
    "print(f\"Result: {result}\")"
   ],
   "metadata": {
    "collapsed": false,
    "ExecuteTime": {
     "end_time": "2024-02-14T06:44:38.748996Z",
     "start_time": "2024-02-14T06:44:38.721313Z"
    }
   },
   "id": "b263f8c9d9385194",
   "execution_count": 11
  },
  {
   "cell_type": "code",
   "outputs": [],
   "source": [],
   "metadata": {
    "collapsed": false,
    "ExecuteTime": {
     "end_time": "2024-02-14T06:44:38.766694Z",
     "start_time": "2024-02-14T06:44:38.750516Z"
    }
   },
   "id": "f2d50b393b0ad6fd",
   "execution_count": 11
  },
  {
   "cell_type": "code",
   "outputs": [],
   "source": [
    "\"\"\" Dynamic Programming Study\n",
    "2) Memoization (Top-Bottom)\n",
    "    - Recursive (Brute Force)\n",
    "    - memoization\n",
    "\"\"\"\n",
    "\n",
    "def recursive(x: int) -> int:\n",
    "    if x < 2:\n",
    "        return x\n",
    "    return recursive(x-1) + recursive(x-2)\n",
    "\n",
    "def memoization(x: int) -> int:\n",
    "    if x < 2:\n",
    "        return x\n",
    "    \n",
    "    if dp[x]:\n",
    "        return dp[x]\n",
    "    \n",
    "    dp[x] = memoization(x-1) + memoization(x-2)  # 재귀 구조상 이미 계산한 값들을 다시 계산 하는 경우가 생김. 그걸 방지\n",
    "    return dp[x]\n",
    "\n",
    "start = time.time()\n",
    "result = recursive(40)\n",
    "end = time.time()\n",
    "\n",
    "print(f\"Execution Time: {end - start}\")\n",
    "print(f\"Result: {result}\")\n",
    "\n",
    "n = 40\n",
    "dp = [0] * (n+1)\n",
    "\n",
    "start = time.time()\n",
    "result = memoization(n)\n",
    "end = time.time()\n",
    "\n",
    "print(f\"Execution Time: {end - start}\")\n",
    "print(f\"Result: {result}\")\n"
   ],
   "metadata": {
    "collapsed": false,
    "is_executing": true,
    "ExecuteTime": {
     "start_time": "2024-02-14T06:44:38.828469Z"
    }
   },
   "id": "453a5832681e61f0",
   "execution_count": null
  },
  {
   "cell_type": "code",
   "outputs": [],
   "source": [
    "import sys\n",
    "\n",
    "\n",
    "def is_safe(board, row, col, n):\n",
    "    for i in range(row):\n",
    "        if board[i][col] == 1:\n",
    "            return False\n",
    "\n",
    "    for i, j in zip(range(row, -1, -1), range(col, -1, -1)):\n",
    "        print(i,j)\n",
    "        if board[i][j] == 1:\n",
    "            return False\n",
    "\n",
    "    for i, j in zip(range(row, -1, -1), range(col, n)):\n",
    "        print(i,j)\n",
    "        if board[i][j] == 1:\n",
    "            return False\n",
    "    return True\n",
    "\n",
    "\n",
    "def solve_n_queens_util(board, row, n, count):\n",
    "    if row == n:\n",
    "        # 모든 퀸을 놓았을 때, 해의 개수를 증가시킴\n",
    "        count[0] += 1\n",
    "        return\n",
    "\n",
    "    for col in range(n):\n",
    "        if is_safe(board, row, col, n):\n",
    "            board[row][col] = 1\n",
    "            solve_n_queens_util(board, row + 1, n, count)\n",
    "            board[row][col] = 0  # Backtrack\n",
    "\n",
    "\n",
    "def solve_n_queens(n):\n",
    "    board = [[0] * n for _ in range(n)]\n",
    "    count = [0]  # 해의 개수를 저장하기 위한 리스트\n",
    "    solve_n_queens_util(board, 0, n, count)\n",
    "    return count[0]\n",
    "\n",
    "\n",
    "result = solve_n_queens(8)\n",
    "print(result)"
   ],
   "metadata": {
    "collapsed": false,
    "is_executing": true
   },
   "id": "4858df095cc969a5",
   "execution_count": null
  },
  {
   "cell_type": "code",
   "outputs": [],
   "source": [
    "\"\"\" DFS Algorithm: recursive call\n",
    "1) init recursion limit in python\n",
    "2) select start node\n",
    "3) change visit FLAG for start node\n",
    "4) iter to linked list for start node\n",
    "5) recursive call to node in linked list for start node, if this node is not visited (FLAG = False)\n",
    "\"\"\"\n",
    "\n",
    "sys.setrecursionlimit(10**6)\n",
    "start_node = 0\n",
    "visit = [False for _ in range(9)]\n",
    "graph = (\n",
    "    (),\n",
    "    (2, 3, 8),\n",
    "    (1, 7),\n",
    "    (1, 4, 5),\n",
    "    (3, 5),\n",
    "    (3, 4),\n",
    "    [7],\n",
    "    (2, 6, 8),\n",
    "    (1, 7),\n",
    ")  # immutable object: 가능 하다면 튜플로 선언, \n",
    "\n",
    "def dfs(src: int, visited: Tuple) -> None:\n",
    "    visited[src] = True\n",
    "    print(src, end=\" \")\n",
    "    for next_node in graph[src]:\n",
    "        if not visited[next_node]:\n",
    "            dfs(next_node, visited)\n",
    "\n",
    "dfs(1, visit)"
   ],
   "metadata": {
    "collapsed": false,
    "is_executing": true
   },
   "id": "ecfa7920681e918",
   "execution_count": null
  },
  {
   "cell_type": "code",
   "outputs": [],
   "source": [
    "\"\"\" BFS Algorithm\n",
    "1) init data structure: from collections import deque\n",
    "2) select start node\n",
    "3) change visit FLAG to start node\n",
    "4) insert start node to deque\n",
    "5) enter while loop\n",
    "    - popleft out in deque\n",
    "    - iter to linked list for popleft out node\n",
    "        - if next nodes are not visited\n",
    "            - change visit FLAG to popleft out node\n",
    "            - insert this node into deque\n",
    "\"\"\"\n",
    "from collections import deque\n",
    "\n",
    "visit = [False for _ in range(9)]\n",
    "def bfs(src: int, visited: Tuple) -> None:\n",
    "    visited[src] = True\n",
    "    q = deque([])\n",
    "    q.append(src)\n",
    "    while q:\n",
    "        node = q.popleft()\n",
    "        print(node, end=' ')\n",
    "        for next_node in graph[node]:\n",
    "            if not visited[next_node]:\n",
    "                visited[next_node] = True\n",
    "                q.append(next_node)\n",
    "                \n",
    "bfs(1, visit)"
   ],
   "metadata": {
    "collapsed": false,
    "is_executing": true
   },
   "id": "5976383e265de6b4",
   "execution_count": null
  },
  {
   "cell_type": "code",
   "outputs": [],
   "source": [
    "def longest_palindrome(inputs: str) -> str:\n",
    "    \"\"\" Sliding Window Algorithm\n",
    "    1) init two window pointer\n",
    "        - size: odd, even => 3, 2\n",
    "    2) start at most left of string\n",
    "    3) iter:\n",
    "        - check if current state is palindrome or will be expanded state is palindrome\n",
    "            - True: expand and check again current state, until not palindrome\n",
    "            - False: save current state's length, init size of two window pointer, slide window\n",
    "        - handling exception:\n",
    "            1) given word is already palindrome\n",
    "            2) given word's length is 1\n",
    "\"\"\"\n",
    "    def expand(left: int, right: int) -> str:\n",
    "        while left >= 0 and right < len(inputs) and inputs[left] == inputs[right]:\n",
    "            left -= 1\n",
    "            right += 1\n",
    "        return inputs[left+1:right]\n",
    "    \n",
    "    \n",
    "    if len(inputs) < 2 or inputs == inputs[::-1]:\n",
    "        return inputs\n",
    "    \n",
    "    result = ''\n",
    "    for i in range(len(inputs)-1):\n",
    "        result = max(\n",
    "            result,\n",
    "            expand(i, i+1),\n",
    "            expand(i, i+2),\n",
    "            key=len\n",
    "        )\n",
    "        print(f\"num of iter: {i}\")\n",
    "        print(f\"current longest state: {result}\")\n",
    "    return result\n",
    "\n",
    "word = 'babba'\n",
    "longest_palindrome(word)"
   ],
   "metadata": {
    "collapsed": false,
    "is_executing": true
   },
   "id": "33561b9bd77c4cce",
   "execution_count": null
  },
  {
   "cell_type": "code",
   "outputs": [],
   "source": [
    "def remove_target_text(inputs: str, target: str) -> str:\n",
    "    \"\"\" stack implementation in python for detecting & removing target text in given word or sequence\n",
    "    1) init empty list\n",
    "    2) insert, expand, append stream inputs to empty list\n",
    "    3) do anything at most right part of inputs\n",
    "    \"\"\"\n",
    "    stack = []\n",
    "    for char in inputs:\n",
    "        stack.append(char)\n",
    "        if target == ''.join(stack[-len(target):]):\n",
    "            del stack[-len(target):]\n",
    "    result = ''.join(stack) if len(stack) else \"FRULA\"\n",
    "    return result\n",
    "\n",
    "\n",
    "text = 'mirkovC4nizCC44'\n",
    "bomb = 'C4'\n",
    "remove_target_text(text, bomb)"
   ],
   "metadata": {
    "collapsed": false,
    "is_executing": true
   },
   "id": "d41a1f83cfe8eac",
   "execution_count": null
  },
  {
   "cell_type": "code",
   "outputs": [],
   "source": [
    "\"\"\" Dijkstra Algorithm with heapq\n",
    "\"\"\"\n",
    "\n",
    "import heapq\n",
    "\n",
    "def dijkstra(src: int, distance: List[int]) -> None:\n",
    "    \"\"\" dijkstra algorithm: src node to rest of nodes\n",
    "    1) select start node (o)\n",
    "    2) init shortest-table (o)\n",
    "        - start node are zero-init \n",
    "    3) select shortest-cost which is visit FLAG == False\n",
    "        - selecting algorithm must be implemented with heapq\n",
    "        - heapq sort guarantee max or min element sorting \n",
    "        - linear search will be restricted b time limit\n",
    "    4) update additional path, created by current shortest path (o)\n",
    "        - compare updated path's cost & past updated path\n",
    "    5) iter above steps until complete\n",
    "    \"\"\"\n",
    "    h = []\n",
    "    heapq.heappush(h, (distance[src], src))\n",
    "    while h:\n",
    "        min_cost, node = heapq.heappop(h)\n",
    "        for i in graph[node]:\n",
    "            curr_cost, curr_node = i[0], i[1]\n",
    "            cost = min_cost + curr_cost\n",
    "            if cost < distance[curr_node]:\n",
    "                distance[curr_node] = cost\n",
    "                heapq.heappush(h, (cost, curr_node))"
   ],
   "metadata": {
    "collapsed": false,
    "is_executing": true
   },
   "id": "a8f65377f7cc3225",
   "execution_count": null
  },
  {
   "cell_type": "code",
   "outputs": [],
   "source": [
    "\"\"\" collections review\n",
    "1) Counter\n",
    "2) deque\n",
    "3) default dict\n",
    "4) namedtuple\n",
    "\"\"\"\n",
    "\n",
    "from collections import Counter, deque\n",
    "from collections import defaultdict, namedtuple\n",
    "\n",
    "# 1) Counter\n",
    "test = 'aabcdacdbbbbaaaadddcccbcbcbcbcbcbbcbcbcbcbcdaadaabadbcdbcdacdbacdbacdbcadacbbcabcadb'\n",
    "test_2 = 'aaaaabbbbcccccdddd'\n",
    "# test = ['red', 'red', 'red', 'red', 'yellow', 'blue', 'blue', 'blue', 'green', 'green']\n",
    "counter, counter_2 = Counter(test), Counter(test_2)\n",
    "\n",
    "print(f\"print counter dict: {counter}\", end='\\n\\n')\n",
    "print(f\"print counter dict: {counter_2}\", end='\\n\\n')\n",
    "\n",
    "print(f\"print counter dict key: {counter.keys()}\", end='\\n\\n')\n",
    "print(f\"print counter dict value: {counter.values()}\", end='\\n\\n')\n",
    "\n",
    "print(f\"print counter most_common: {counter.most_common(2)}\")\n",
    "\n",
    "print(f\"print sorted test string: {''.join(sorted(counter.elements(), reverse=True))}\")\n",
    "\n",
    "print(f\"print subtract two counter object: {counter - counter_2}\")  # calculate: add, subtract ...\n",
    "print(f\"print OR object: {counter | counter_2}\")  # logical calculate: in 3.10\n",
    "print(f\"print AND two counter object: {counter & counter_2}\")  # logical calculate: in 3.10\n",
    "\n",
    "counter_2.clear()\n",
    "print(f\"After applying clear to Counter: {counter_2}\")  # for recycling object"
   ],
   "metadata": {
    "collapsed": false,
    "is_executing": true
   },
   "id": "a8c8b1d03ccf25d7",
   "execution_count": null
  },
  {
   "cell_type": "code",
   "outputs": [],
   "source": [
    "\"\"\" collections.deque\n",
    "deque has not slicing operator, so to implement deque slicing, use a similar approach applying rotate()\n",
    "to bring a target element to the left side of the deque. \n",
    "Remove old entries with popleft(), add new entries with extend(), and then reverse the rotation. \n",
    "With minor variations on that approach, it is easy to implement \n",
    "Forth style stack manipulations such as dup, drop, swap, over, pick, rot, and roll.\n",
    "\"\"\"\n",
    "\n",
    "q = deque(['src'])\n",
    "print(f\"initialize deque data structure: {q}\", end='\\n\\n')\n",
    "\n",
    "q.append(list(range(5)))\n",
    "print(f\"append right deque: {q}\", end='\\n\\n')\n",
    "\n",
    "q.appendleft(list(range(-5, 1, 1)))\n",
    "print(f\"append left deque: {q}\", end='\\n\\n')\n",
    "\n",
    "q.extend([6])\n",
    "print(f\"extend right deque: {q}\", end='\\n\\n')\n",
    "\n",
    "q.extendleft([-1])\n",
    "print(f\"extend left deque: {q}\", end='\\n\\n')\n",
    "\n",
    "q.pop()\n",
    "print(f\"pop right deque: {q}\", end='\\n\\n')\n",
    "\n",
    "q.popleft()\n",
    "print(f\"pop left deque: {q}\", end='\\n\\n')\n",
    "\n",
    "q.rotate(2)\n",
    "print(f\"rotate deque clockwise: {q}\", end='\\n\\n')\n",
    "\n",
    "q.rotate(-2)\n",
    "print(f\"rotate deque reverse clockwise: {q}\", end='\\n\\n')\n",
    "\n",
    "q.reverse()\n",
    "print(f\"reverse deque: {q}\", end='\\n\\n')\n",
    "\n",
    "q.clear()\n",
    "print(f\"clear deque for recycling object: {q}\", end='\\n\\n')"
   ],
   "metadata": {
    "collapsed": false,
    "is_executing": true
   },
   "id": "36a10189c15a0a68",
   "execution_count": null
  },
  {
   "cell_type": "code",
   "outputs": [],
   "source": [
    "\"\"\" collections.defaultdict\n",
    "defaultdict is used to set dict.value dtypes\n",
    "\"\"\"\n",
    "\n",
    "d = defaultdict(list)\n",
    "s = [('yellow', 3), ('yellow', 1), ('blue', 2), ('red', 20), ('blue', 4), ('red', 1)]\n",
    "\n",
    "for k, v in s:\n",
    "    d[k].append(v)\n",
    "\n",
    "print(f\"print default dict: {d.items()} \")\n",
    "print(f\"print default dict: {sorted(d.keys(), key=lambda x: x[0])} \")\n",
    "print(f\"print default dict: {sorted(d.values(), key=lambda x: x[0])} \")\n",
    "print(f\"print wrapped by list to default dict: {list(d)}\")\n",
    "print(f\"print iterate result which is wrapped by list to default dict: {[i for i in list(d)]}\")  # In wrapped list, they have all of keys in dictionary"
   ],
   "metadata": {
    "collapsed": false,
    "is_executing": true
   },
   "id": "711d3ee9b5f8585a",
   "execution_count": null
  },
  {
   "cell_type": "code",
   "outputs": [],
   "source": [
    "\"\"\" collections.nametuple\n",
    "nametuple is used to assign name for each position index\n",
    "namedtuple(\n",
    "    'name',\n",
    "    ['arg1', 'arg2', 'arg3', ... 'argN']\n",
    ")\n",
    "\"\"\"\n",
    "\n",
    "Rectangle = namedtuple('Rectangle', ['x', 'y', 'z'])\n",
    "r_point = Rectangle(\n",
    "    x=11,\n",
    "    y=22,\n",
    "    z=33,\n",
    ")\n",
    "\n",
    "print(f\"initialize named tuple: {r_point}\", end='\\n\\n')\n",
    "print(f\"named tuple is iterable object: {[i for i in r_point]}\", end='\\n\\n')\n",
    "\n",
    "test = [1, 2, 3]\n",
    "print(f\"convert pure list to named tuple: {Rectangle._make(test)}\", end='\\n\\n')\n",
    "print(f\"convert named tuple to pure dict: {r_point._asdict()}\", end='\\n\\n')\n",
    "print(f\"replace some values in named tuple: {r_point._replace(x=111)}\")"
   ],
   "metadata": {
    "collapsed": false,
    "is_executing": true
   },
   "id": "68c3dbb3e2672e9f",
   "execution_count": null
  },
  {
   "cell_type": "code",
   "outputs": [],
   "source": [
    "\"\"\" collections.OrderDict\n",
    "사전 자료형 클래스가 아이템의 삽입 순서를 기억하게 되면서, 굳이 안쓰는 모듈\n",
    "\"\"\""
   ],
   "metadata": {
    "collapsed": false,
    "is_executing": true
   },
   "id": "ddb41821a3c5eee8",
   "execution_count": null
  },
  {
   "cell_type": "code",
   "outputs": [],
   "source": [
    "\"\"\" heapq review\n",
    "heapq is used to implement global max/min sorting or priority queue\n",
    "heap does not guarantee sorted state to all element in heap\n",
    "but this guarantee max/min state of heap, default heap sorting direction is min sorting\n",
    "\n",
    "if you want to guarantee of sorting state for all elements in heap,\n",
    "you use other array with heappop method\n",
    "this method keep sorting state because it always re-sorting min/max element in every iterations\n",
    "1) heapq\n",
    "    - max heapsort\n",
    "    - min heapsort\n",
    "    - priority queue\n",
    "2) heapq basic operator\n",
    "\"\"\"\n",
    "\n",
    "\"\"\" 1-1) max heapsort \"\"\"\n",
    "import random\n",
    "\n",
    "h = []\n",
    "\n",
    "for _ in range(10):\n",
    "    heapq.heappush(h, -random.randint(0, 100))\n",
    "\n",
    "print(f\"max heap result: {h}\", end='\\n\\n')\n",
    "\n",
    "result = []\n",
    "for _ in range(len(h)):\n",
    "    result.append(-heapq.heappop(h))\n",
    "\n",
    "print(f\"max heapsort result: {result}\", end='\\n\\n')"
   ],
   "metadata": {
    "collapsed": false,
    "is_executing": true
   },
   "id": "be73eedb3bc7b4f",
   "execution_count": null
  },
  {
   "cell_type": "code",
   "outputs": [],
   "source": [
    "\"\"\" 1-2) min heap \"\"\"\n",
    "h = []\n",
    "\n",
    "for _ in range(10):\n",
    "    heapq.heappush(h, random.randint(0, 100))\n",
    "\n",
    "print(f\"min heap result: {h}\")\n",
    "\n",
    "result = []\n",
    "for _ in range(len(h)):\n",
    "    result.append(heapq.heappop(h))\n",
    "\n",
    "print(f\"min heapsort result: {result}\")"
   ],
   "metadata": {
    "collapsed": false,
    "is_executing": true
   },
   "id": "660e6bf32e524d6b",
   "execution_count": null
  },
  {
   "cell_type": "code",
   "outputs": [],
   "source": [
    "\"\"\" 1-3) priority queue\n",
    "you must pass tuple, which is first pos index regarded as priority of object\n",
    "\n",
    "Q1. 정렬 안정성: 우선순위가 같은 두 작업이 원래 추가된 순서대로 반환되려면\n",
    "우선순위가 같고 작업에 기본 비교 순서가 없는 경우 (우선순위, 작업) 쌍에 대한 튜플 비교가 중단\n",
    "비교가 가능한 객체가 존재 하는한 하위로 계속 내려 가면서 정렬을 끝까지 수행 \n",
    "\"\"\"\n",
    "h = []\n",
    "\n",
    "for _ in range(10):\n",
    "    heapq.heappush(h, (random.randint(0, 10), random.randint(0, 10)))\n",
    "\n",
    "print(f\"min heap result: {h}\")\n",
    "\n",
    "result = []\n",
    "for _ in range(len(h)):\n",
    "    result.append(heapq.heappop(h))\n",
    "\n",
    "print(f\"min heapsort result: {result}\")"
   ],
   "metadata": {
    "collapsed": false,
    "is_executing": true
   },
   "id": "c8ca22de9acded84",
   "execution_count": null
  },
  {
   "cell_type": "code",
   "outputs": [],
   "source": [
    "\"\"\" 2) heapq basic operator\n",
    "- heappush(h: List, item) => push element and then heap sorting for min/max element in heap\n",
    "- heappop(h: List) => pop min/max element in heap\n",
    "- heapify(x: List) => make pure list to heap\n",
    "- heapreplace(h:List, item) => heappop() element and then heappush() item\n",
    "- heappushpop(h: List, item) => heappush() item and then heappop()\n",
    "- heapq.nlargest(n, iterable, key=None)\n",
    "- heapq.nsmallest(n, iterable, key=None)\n",
    "\"\"\"\n",
    "\n",
    "print(f\"(max) Top-3 heapsort result: {heapq.nlargest(3, result)}\", end='\\n\\n')\n",
    "print(f\"(min) Top-3 heapsort result: {heapq.nsmallest(3, result)}\")"
   ],
   "metadata": {
    "collapsed": false,
    "is_executing": true
   },
   "id": "571f3af0106e066d",
   "execution_count": null
  },
  {
   "cell_type": "code",
   "outputs": [],
   "source": [
    "\"\"\" bisect review\n",
    "이진 탐색 모듈은 기본적으로 정렬된 Iterable 객체 입력을 전제로 사용, 정렬된 상태를 유지하고 싶을 때 사용\n",
    "문제 풀다 보면 이거 저거 삽입하고 삭제하면서 다시 정렬해줘야 하는 경우가 생기는데, 이게 생각보다 시간 복잡도를 잡아먹음\n",
    "\n",
    "1) bisect_left(a: List, x: Any):\n",
    "정렬된 순서를 유지하기 위해 a에서 x의 삽입 지점을 찾습니다. x가 이미 a에 있는 경우, 삽입 지점은 기존 항목의 앞(왼쪽)이 됩니다. \n",
    "반환 값은 a가 이미 정렬되어 있다고 가정할 때 list.insert()의 첫 번째 매개변수로 사용하기에 적합합니다.\n",
    "정렬 순서를 해치지 않는, 원하는 순서에 빠르게 원소를 삽입에 좋은 메서드\n",
    "\n",
    "중복 원소가 있는 경우, 인덱스 가장 빠른 원소의 왼쪽을 리턴함\n",
    "\n",
    "2) bisect_right(a: List, x: Any):\n",
    "\n",
    "중복 원소가 있는 경우, 인덱스 가장 느린 원소의 오른쪽을 리턴\n",
    "=> 이거 나중에 SpanBERT에 적용하면 좋을 듯.\n",
    "\"\"\"\n",
    "from bisect import bisect_left, bisect_right\n",
    "\n",
    "test = [1, 2, 3, 3, 3, 4, 4, 8, 9]\n",
    "\n",
    "print(f\"bisect left method: {bisect_left(test, 3)}\")\n",
    "print(f\"bisect right method: {bisect_right(test, 3)}\")"
   ],
   "metadata": {
    "collapsed": false,
    "is_executing": true
   },
   "id": "43bd6a87c674973",
   "execution_count": null
  },
  {
   "cell_type": "markdown",
   "source": [],
   "metadata": {
    "collapsed": false
   },
   "id": "8676a6404a9f32f2"
  },
  {
   "cell_type": "code",
   "outputs": [],
   "source": [
    "\"\"\" itertools review\n",
    "1) 순열\n",
    "2) 조합\n",
    "3) 중복 순열\n",
    "4) 중복 조합\n",
    "\"\"\"\n",
    "\n",
    "from itertools import permutations, combinations  # 순열, 조합\n",
    "from itertools import product, combinations_with_replacement  # 중복 순열, 중복 조합\n",
    "\n",
    "\n",
    "data = list(range(5))\n",
    "p, c = list(permutations(data, 2)), list(combinations(data, 2))\n",
    "o_p, o_c = list(product(data, repeat=2)), list(combinations_with_replacement(data, r=2))\n",
    "print(f\"permutation result: {p}, {len(p)}\", end='\\n\\n')\n",
    "print(f\"combination result: {c}, {len(c)}\", end='\\n\\n')\n",
    "print(f\"over-lapping permutation result: {o_p}, {len(o_p)}\", end='\\n\\n')\n",
    "print(f\"over-lapping combination result: {o_c}, {len(o_c)}\", end='\\n\\n')"
   ],
   "metadata": {
    "collapsed": false,
    "is_executing": true
   },
   "id": "3a2ae38e94090e54",
   "execution_count": null
  },
  {
   "cell_type": "code",
   "outputs": [],
   "source": [
    "# bytes_size = inputs.input_ids.element_size() * inputs.input_ids.numel()\n",
    "# print(bytes_size)"
   ],
   "metadata": {
    "collapsed": false,
    "is_executing": true
   },
   "id": "49662617a1dfa8bd",
   "execution_count": null
  },
  {
   "cell_type": "code",
   "outputs": [],
   "source": [
    "def count_by_range(l: List, left_value: Any, right_value: Any) -> int:\n",
    "    \"\"\" Return the count of values within a specified range among the elements inside a sorted list\n",
    "    Args:\n",
    "        l: list object for calculating number of elements in span boundary\n",
    "        left_value: left boundary value\n",
    "        right_value: right boundary value\n",
    "    \"\"\"\n",
    "    right = bisect_right(\n",
    "        l, \n",
    "        right_value\n",
    "    )\n",
    "    left = bisect_left(\n",
    "        l,\n",
    "        left_value\n",
    "    )\n",
    "    return right - left\n",
    "\n",
    "list_a = [1, 2, 3, 3, 3, 3, 4, 4, 8, 9]\n",
    "count_by_range(list_a, 0, 3)"
   ],
   "metadata": {
    "collapsed": false,
    "is_executing": true
   },
   "id": "470eab0321db7abe",
   "execution_count": null
  },
  {
   "cell_type": "code",
   "outputs": [],
   "source": [
    "\"\"\" Mutable Object in pure python review\n",
    "Mutable Object can be changed in-place, if you want to change mutable object, you don't need to re-assign new object, this behavior will be occurred to change mutable object in same memory space\n",
    "but, you must be careful to use mutable object, because this object can be changed in-place\n",
    "1) List\n",
    "2) Dict\n",
    "\"\"\"\n",
    "# 1) replace method in list\n",
    "\n",
    "test = [1,2,3,4,5,6,7,8]\n",
    "test[0:3] = [0, 0, 0, 0]  # must be same length with target slice size\n",
    "print(f\"replace method in mutable object: {test}\")\n",
    "\n",
    "test[0:3] = '1234'  # must be same length with target slice size\n",
    "print(f\"replace method in mutable object: {test}\")\n",
    "\n",
    "test[0:3] = 't'\n",
    "print(f\"replace method in mutable object: {test}\")\n",
    "\n",
    "test[::1] = 't'\n",
    "print(f\"replace method in mutable object: {test}\")"
   ],
   "metadata": {
    "collapsed": false,
    "is_executing": true
   },
   "id": "be2f5ff81235f534",
   "execution_count": null
  },
  {
   "cell_type": "code",
   "outputs": [],
   "source": [
    "\"\"\" Immutable Object in pure python review\n",
    "Immutable Object can not be changed in-place, if you want to change immutable object, you must re-assign new object, this behavior will be occurred to copy immutable object in other memory space\n",
    "\n",
    "1) Tuple\n",
    "생성자는 이터러블의 항목과 동일한 순서로 동일한 항목이 있는 튜플을 생성합니다. \n",
    "이터러블은 시퀀스, 반복을 지원하는 컨테이너 또는 이터레이터 객체일 수 있습니다. \n",
    "iterable이 이미 튜플이면 변경되지 않고 반환됩니다. \n",
    "예를 들어, tuple('abc')은 ('a', 'b', 'c')를 반환하고 tuple([1, 2, 3] )은 (1, 2, 3)을 반환합니다. \n",
    "인자가 지정되지 않으면 생성자는 새로운 빈 튜플인 ()을 생성합니다.\n",
    "\n",
    "2) Set\n",
    "3) int, float, str, bool ...\n",
    "\"\"\""
   ],
   "metadata": {
    "collapsed": false,
    "is_executing": true
   },
   "id": "2b11edbe5f973cd5",
   "execution_count": null
  },
  {
   "cell_type": "code",
   "outputs": [],
   "source": [
    "\"\"\" str object in pure python review\n",
    "str.capitalize() => capitalize first character in string\n",
    "str.upper() => capitalize all characters in string\n",
    "str.lower() => lower all characters in string\n",
    "str.count() => count number of target character in string\n",
    "str.find() => find index of target character in string\n",
    "str.startswith() => check if string starts with target character\n",
    "str.endswith() => check if string ends with target character\n",
    "str.find() => find index of target character in string, if you want to current state which is whole word contain target sub words, you must use in operator\n",
    "\n",
    "is뭐시기로 시작하는거 죄다 데이터 유효성 검사용\n",
    "\"\"\"\n",
    "\n",
    "text = \"abcdeeeeee\"\n",
    "text.startswith('a')"
   ],
   "metadata": {
    "collapsed": false,
    "is_executing": true
   },
   "id": "3ab6474b5a5d82c9",
   "execution_count": null
  },
  {
   "cell_type": "code",
   "outputs": [],
   "source": [
    "\"\"\" string split() Top-K Words\n",
    "\"\"\"\n",
    "\n",
    "text = 'samsung samsung python python cython cython pycharm'\n",
    "text = text.split(' ')\n",
    "\n",
    "vocab = {v: 0 for i, v in enumerate(text)}\n",
    "for word in text:\n",
    "    vocab[word] += 1\n",
    "\n",
    "k = 2\n",
    "top_k = [[k, v] for k, v in vocab.items()]\n",
    "top_k.sort(key=lambda x:x[1], reverse=True)\n",
    "top_k[:k]"
   ],
   "metadata": {
    "collapsed": false,
    "is_executing": true
   },
   "id": "2d9923d043294893",
   "execution_count": null
  },
  {
   "cell_type": "code",
   "outputs": [],
   "source": [
    "\"\"\" remove blank space\n",
    "\"\"\"\n",
    "\n",
    "text = 'samsung samsung python python cython cython pycharm'\n",
    "text.replace(' ', '')"
   ],
   "metadata": {
    "collapsed": false,
    "is_executing": true
   },
   "id": "22d0150032a5e637",
   "execution_count": null
  },
  {
   "cell_type": "code",
   "outputs": [],
   "source": [
    "\"\"\"\n",
    "List pop time complexity\n",
    "1) pop last element\n",
    "2) pop first element\n",
    "\"\"\"\n",
    "import time\n",
    "\n",
    "start = time.time()\n",
    "test = list(range(10**9))\n",
    "print(test.pop())\n",
    "end = time.time()\n",
    "\n",
    "print(f\"Execution Time: {end - start}\")"
   ],
   "metadata": {
    "collapsed": false,
    "is_executing": true
   },
   "id": "c76b63fbbe883d84",
   "execution_count": null
  },
  {
   "cell_type": "code",
   "outputs": [],
   "source": [
    "start = time.time()\n",
    "test = list(range(10**9))\n",
    "print(test.pop(10**3))\n",
    "end = time.time()\n",
    "\n",
    "print(f\"Execution Time: {end - start}\")"
   ],
   "metadata": {
    "collapsed": false,
    "is_executing": true
   },
   "id": "c16d4de9db81052f",
   "execution_count": null
  },
  {
   "cell_type": "code",
   "outputs": [],
   "source": [
    "sys.getsizeof(test)"
   ],
   "metadata": {
    "collapsed": false,
    "is_executing": true
   },
   "id": "f829564de95926da",
   "execution_count": null
  },
  {
   "cell_type": "code",
   "outputs": [],
   "source": [],
   "metadata": {
    "collapsed": false,
    "is_executing": true
   },
   "id": "cb7f041689eff448",
   "execution_count": null
  },
  {
   "cell_type": "code",
   "outputs": [],
   "source": [
    "\"\"\" List element del test\n",
    "\"\"\"\n",
    "test = [1, 2, 3, 4]\n",
    "print(f\"test's address: {id(test)}\")\n",
    "for t in test:\n",
    "    print(f\"t's address: {id(t)}\")\n",
    "    print(t)\n",
    "    del t\n",
    "    print(test)"
   ],
   "metadata": {
    "collapsed": false,
    "is_executing": true
   },
   "id": "7dbfaea74a87803",
   "execution_count": null
  },
  {
   "cell_type": "code",
   "outputs": [],
   "source": [
    "\"\"\" 리스트에서 특정 조건을 만족하는 원소들만 걸러내기\n",
    "\"\"\"\n",
    "dest, fishes = [], []\n",
    "tmp_dest, tmp_fishes = [], []\n",
    "for k in dest:\n",
    "    w, r, c, _ = k\n",
    "    visit = [[False] * N for _ in range(N)]\n",
    "    if k[3] > 0:\n",
    "        tmp_dest.append(k)\n",
    "    else:\n",
    "        tmp_fishes.append(k)\n",
    "dest = tmp_dest\n",
    "fishes += tmp_fishes"
   ],
   "metadata": {
    "collapsed": false,
    "is_executing": true
   },
   "id": "c2e3fb0f8bdd5791",
   "execution_count": null
  },
  {
   "cell_type": "code",
   "outputs": [],
   "source": [
    "\"\"\" string\n",
    "A: start at 65\n",
    "a: start at 97\n",
    "\"\"\"\n",
    "\n",
    "ord('A') - 65"
   ],
   "metadata": {
    "collapsed": false,
    "is_executing": true
   },
   "id": "dc06755d8fd09ed9",
   "execution_count": null
  },
  {
   "cell_type": "code",
   "outputs": [],
   "source": [
    "import sys\n",
    "\n",
    "def dfs(y: int, x: int):\n",
    "    dp, result = set(), 0\n",
    "    dp.add((y, x, grid[y][x]))\n",
    "    while dp:\n",
    "        vy, vx, path = dp.pop()\n",
    "        result = max(result, len(path))\n",
    "        if result == 26:\n",
    "            return 26\n",
    "\n",
    "        for i in range(4):\n",
    "            ny, nx = dy[i] + vy, dx[i] + vx\n",
    "            if -1 < ny < r and -1 < nx < c and grid[ny][nx] not in path:\n",
    "                dp.add((ny, nx, grid[ny][nx] + path))\n",
    "    return result\n",
    "\n",
    "r, c = map(int, sys.stdin.readline().split())\n",
    "dy, dx = (-1, 1, 0, 0), (0, 0, -1, 1)\n",
    "grid = [list(map(str, sys.stdin.readline().rstrip())) for _ in range(r)]\n",
    "print(dfs(0, 0))"
   ],
   "metadata": {
    "collapsed": false,
    "is_executing": true
   },
   "id": "bca9e653d7bafaa3",
   "execution_count": null
  },
  {
   "cell_type": "code",
   "outputs": [],
   "source": [],
   "metadata": {
    "collapsed": false,
    "is_executing": true
   },
   "id": "b0c32ad6458202fe",
   "execution_count": null
  }
 ],
 "metadata": {
  "kernelspec": {
   "display_name": "Python 3",
   "language": "python",
   "name": "python3"
  },
  "language_info": {
   "codemirror_mode": {
    "name": "ipython",
    "version": 2
   },
   "file_extension": ".py",
   "mimetype": "text/x-python",
   "name": "python",
   "nbconvert_exporter": "python",
   "pygments_lexer": "ipython2",
   "version": "2.7.6"
  }
 },
 "nbformat": 4,
 "nbformat_minor": 5
}
