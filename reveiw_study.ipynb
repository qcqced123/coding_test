{
 "cells": [
  {
   "cell_type": "code",
   "id": "initial_id",
   "metadata": {
    "collapsed": true,
    "ExecuteTime": {
     "end_time": "2024-10-13T03:26:53.520200Z",
     "start_time": "2024-10-13T03:26:53.515335Z"
    }
   },
   "source": [
    "\"\"\" implementation for bisect\n",
    "1) left bisect\n",
    "2) right bisect\n",
    "\"\"\"\n",
    "\n",
    "\n",
    "def bisect_left(arr: list, x: int) -> int:\n",
    "    \"\"\" bisect function with two pointer\n",
    "    return the left index of x value\n",
    "    Args:\n",
    "        arr (list): \n",
    "        x (int): value for sorting in arr\n",
    "    \"\"\"\n",
    "    l, r = 0, len(arr)\n",
    "    while l < r:\n",
    "        mid = (l+r) // 2\n",
    "        if x > arr[mid]:\n",
    "            l = mid + 1\n",
    "        else:\n",
    "            r = mid\n",
    "    \n",
    "    return l\n",
    "\n",
    "\n",
    "def bisect_right(arr: list, x: int) -> int:\n",
    "    \"\"\" bisect function with two pointer\n",
    "    return the right index of x value\n",
    "    Args:\n",
    "        arr (list): \n",
    "        x (int): value for sorting in arr\n",
    "    \"\"\"\n",
    "    l, r = 0 ,len(arr)\n",
    "    while l < r:\n",
    "        mid = (l+r) // 2\n",
    "        if x < arr[mid]:\n",
    "            r = mid\n",
    "        else:\n",
    "            l = mid + 1\n",
    "            \n",
    "    return l"
   ],
   "outputs": [],
   "execution_count": 4
  },
  {
   "metadata": {
    "ExecuteTime": {
     "end_time": "2024-10-13T03:26:53.659453Z",
     "start_time": "2024-10-13T03:26:53.655830Z"
    }
   },
   "cell_type": "code",
   "source": [
    "\"\"\" built-in library for bisect algorithm\n",
    "compare own implemented ver and built-in ver\n",
    "\"\"\"\n",
    "\n",
    "\n",
    "import bisect\n",
    "\n",
    "\n",
    "arr = [1,2,3,4,5,6]\n",
    "v = 4\n",
    "\n",
    "# bisect left\n",
    "print(bisect_left(arr, v))\n",
    "print(bisect.bisect_left(arr, v))\n",
    "\n",
    "# bisect right\n",
    "print(bisect_right(arr, v))\n",
    "print(bisect.bisect_right(arr, v))"
   ],
   "id": "2489705396e63e5d",
   "outputs": [
    {
     "name": "stdout",
     "output_type": "stream",
     "text": [
      "3\n",
      "3\n",
      "4\n",
      "4\n"
     ]
    }
   ],
   "execution_count": 5
  },
  {
   "metadata": {
    "ExecuteTime": {
     "end_time": "2024-10-13T03:29:40.909220Z",
     "start_time": "2024-10-13T03:29:40.839405Z"
    }
   },
   "cell_type": "code",
   "source": [
    "\"\"\" compare linear search speed by data structure\n",
    "result: set win\n",
    "\"\"\"\n",
    "\n",
    "\n",
    "import time\n",
    "\n",
    "arr = [i for i in range(1000000)]\n",
    "\n",
    "src = time.time()\n",
    "print(1 if 1000000 in arr else 0)\n",
    "end = time.time()\n",
    "\n",
    "print(f\"Python pure List in ops linear searching time is: {end-src}\")\n",
    "\n",
    "vocab = set(i for i in range(1000000))\n",
    "\n",
    "src1 = time.time()\n",
    "print(1 if 1000000 in vocab else 0)\n",
    "end1 = time.time()\n",
    "\n",
    "print(f\"Python pure set in ops linear searching time is: {end1-src1}\")"
   ],
   "id": "3c18b30f36724040",
   "outputs": [
    {
     "name": "stdout",
     "output_type": "stream",
     "text": [
      "0\n",
      "Python pure List in ops linear searching time is: 0.008715152740478516\n",
      "0\n",
      "Python pure set in ops linear searching time is: 4.8160552978515625e-05\n"
     ]
    }
   ],
   "execution_count": 6
  },
  {
   "metadata": {},
   "cell_type": "code",
   "outputs": [],
   "execution_count": null,
   "source": [
    "\"\"\" topological sort\n",
    "1) make the in-degree array\n",
    "2) make the graph\n",
    "3) init the queue with current starting point of node\n",
    "    - starting point of node is same as in-degree value == zero\n",
    "4) do bfs with condition\n",
    "    - if current node's in-degree value is zero, then insert current node to queue\n",
    "    - if not current node's in-degree value is not zero, then search the next node\n",
    "\"\"\"\n",
    "\n",
    "\n",
    "from collections import deque, defaultdict\n",
    "\n",
    "\n",
    "N = 20\n",
    "cache = [0]*N\n",
    "graph = defaultdict(list)  # for initializing the graph data structure\n",
    "queue = deque([i for i in range(N) if not cache[i]])"
   ],
   "id": "366814c13a85fa98"
  },
  {
   "metadata": {
    "ExecuteTime": {
     "end_time": "2024-10-13T03:45:19.818718Z",
     "start_time": "2024-10-13T03:45:19.814371Z"
    }
   },
   "cell_type": "code",
   "source": [
    "\"\"\" merge sort: divide and conquer with two-pointer\n",
    "1) divide the total problem into optimal sub-structure\n",
    "2) conquer the sub-structure's problem\n",
    "3) combine them\n",
    "\"\"\"\n",
    "import sys\n",
    "\n",
    "\n",
    "def combine(l: list, r: list):\n",
    "    result = []\n",
    "    i, j = 0, 0\n",
    "    while i < len(l) and j < len(r):\n",
    "        if l[i] < r[j]:\n",
    "            result.append(l[i])\n",
    "            i += 1\n",
    "        \n",
    "        else:\n",
    "            result.append(r[j])\n",
    "            j += 1\n",
    "    \n",
    "    result += l[i:]  # add the left element of left array\n",
    "    result += r[j:]  # add the left element of right array\n",
    "    return result\n",
    "\n",
    "\n",
    "def merge_sort(arr: list):\n",
    "    # end point of calling stack\n",
    "    if len(arr) <= 1:\n",
    "        return arr\n",
    "\n",
    "    half = len(arr) // 2\n",
    "    left = merge_sort(arr[:half])\n",
    "    right = merge_sort(arr[half:])\n",
    "    \n",
    "    return combine(left, right)\n",
    "\n",
    "sys.setrecursionlimit(10**6)\n",
    "array = [23, 4, 19, 8, 7, 20, 100, 1, 2, 3, 1011]\n",
    "\n",
    "print(merge_sort(array))"
   ],
   "id": "5b32d2b7a2b7d155",
   "outputs": [
    {
     "name": "stdout",
     "output_type": "stream",
     "text": [
      "[1, 2, 3, 4, 7, 8, 19, 20, 23, 100, 1011]\n"
     ]
    }
   ],
   "execution_count": 8
  },
  {
   "metadata": {},
   "cell_type": "code",
   "outputs": [],
   "execution_count": null,
   "source": [
    "\"\"\" dfs with stack, not recursive call\n",
    "\"\"\"\n",
    "\n",
    "\n",
    "def dfs_with_stack(src: int, visited: list):\n",
    "    stack = deque([src])\n",
    "    while stack:\n",
    "        node = stack.pop()  # stack, no popleft\n",
    "        if not visited[node]:\n",
    "            visited[node] = 1\n",
    "            print(node, end=\" \")\n",
    "            for next_node in graph[node]:\n",
    "                if not visited[next_node]:\n",
    "                    stack.appendleft(next_node)  # no necessary for reversing list\n",
    "    return"
   ],
   "id": "a3099e35c352e077"
  },
  {
   "metadata": {},
   "cell_type": "code",
   "outputs": [],
   "execution_count": null,
   "source": [
    "\"\"\" dijkstra algorithm: src node to rest of nodes\n",
    "1) select the starting point of node\n",
    "2) init shortest-table\n",
    "    - start node is zero, rest of array are infinite\n",
    "3) select the shortest cost which is visit FLAG == FALSE\n",
    "    - selecting the shortest cost algorithm must be implemented with priority queue by heapq\n",
    "4) update additional path\n",
    "\n",
    "\n",
    "condition:\n",
    "    all of edge's weight must be positive value\n",
    "\"\"\"\n",
    "import heapq\n",
    "\n",
    "\n",
    "def dijkstra(src: int, distance: list[int]):\n",
    "    h = []  # priority queue for selecting the shortest path\n",
    "    heapq.heappush(h, (distance[src], src))  # cost, number of node\n",
    "    while h:\n",
    "        min_cost, vx = heapq.heappop(h)\n",
    "        if min_cost > distance[vx]:  # if condition is true, is means that current vx node are already visited\n",
    "            continue\n",
    "        \n",
    "        for i in graph[vx]:\n",
    "            curr_cost, nx = i[0], i[1]\n",
    "            cost = min_cost + curr_cost\n",
    "            if cost < distance[nx]:\n",
    "                distance[nx] = cost\n",
    "                heapq.heappush(h, (distance[nx], nx))\n",
    "                \n",
    "V, E = map(int, sys.stdin.readline().split())\n",
    "src = int(sys.stdin.readline())\n",
    "\n",
    "# 1) init graph\n",
    "graph, costs = [[] for _ in range(V+1)], [float('inf')] * (V+1)\n",
    "costs[src] = 0\n",
    "for _ in range(E):\n",
    "    u, v, weight = map(int, sys.stdin.readline().split())\n",
    "    graph[u].append((weight, v))\n",
    "\n",
    "dijkstra(src, costs)\n",
    "for i in range(1, V+1):\n",
    "    print(costs[i] if costs[i] != float('inf') else 'INF')"
   ],
   "id": "225305d690c2a9f2"
  },
  {
   "metadata": {},
   "cell_type": "code",
   "outputs": [],
   "execution_count": null,
   "source": [
    "\"\"\" bellman-ford: same as dijkstra, but it can be used in case of negative weight of edges\n",
    "\"\"\""
   ],
   "id": "46a983d4bad4440a"
  },
  {
   "metadata": {},
   "cell_type": "code",
   "outputs": [],
   "execution_count": null,
   "source": [
    "\"\"\" floyd-warshall: all node to all node shortest path, using dyanmic programming\n",
    "triple loop\n",
    "\n",
    "outer loop: k (stopover node)\n",
    "first inner loop: i (row)\n",
    "second inner loop: j (col)\n",
    "\n",
    "update condition: dp[i][j] = min(dp[i][j], dp[i][k] + dp[k][j])\n",
    "\"\"\""
   ],
   "id": "ce33489646571530"
  },
  {
   "metadata": {},
   "cell_type": "code",
   "outputs": [],
   "execution_count": null,
   "source": [
    "\"\"\" dis-joint set with union-find\n",
    "두개의 파인드 결과가 달라야, 서로 사이클이 없는 것, 서로 다른 서로소 집합 관계:\n",
    "\"\"\"\n",
    "\n",
    "\n",
    "def find(arr: list, x: int) -> int:\n",
    "    if arr[x] != x:\n",
    "        arr[x] = find(arr, arr[x])\n",
    "    return arr[x]\n",
    "\n",
    "\n",
    "def union(y: int, x: int, arr: list):\n",
    "    y = find(arr, y)\n",
    "    x = find(arr, x)\n",
    "    \n",
    "    if x < y:\n",
    "        arr[y] = x\n",
    "    \n",
    "    else:\n",
    "        arr[x] = y    \n",
    "    return\n"
   ],
   "id": "1c23a5a50eebf670"
  },
  {
   "metadata": {},
   "cell_type": "code",
   "outputs": [],
   "execution_count": null,
   "source": [
    "\"\"\" bellman-ford algorithm\n",
    "1) 최단 경로 찾기 알고리즘\n",
    "    - 최단 경로: 시작 노드 to 나머지 노드\n",
    "        - 모든 시점에서 모든 노드와 엣지에 대한 검사를 하기 떄문에, 시작 노드와 연결되지 않은 그래프 집합의 값도 업데이트가 된다\n",
    "        - 따라서, 시작 노드와 연결되지 않은 그래프 집합의 값을 따로 걸러줘야 한다\n",
    "            - 이런 경우는 경로값이 없는 것으로 세팅해줘야 안틀린다\n",
    "        \n",
    "    - 그래프 내부에 음의 간선이 존재 하는 경우 사용\n",
    "    - 그래프 내부에 음의 간선의 사이클 존재 하는 경우, 사용\n",
    "    - 그리디에 속하는 다익스트라와 다르게, 모든 시점에서 모든 정점과 엣지에 대해서 비용 체크\n",
    "    - 시간 복잡도: O(V*E) (정점 개수•간선 개수)\n",
    "    - 비용 배열 초기화 방법 주의:\n",
    "        값의 업데이트를 기준으로 음의 간선 사이클이 존재하는지 판정하기 때문에 INF 대신 매우 큰 실수로 업데이트 해야 한다\n",
    "\n",
    "reference:\n",
    "     https://www.acmicpc.net/problem/11657\n",
    "\"\"\"\n",
    "\n",
    "\n",
    "def bellman_ford(src: int) -> int:\n",
    "    cost[src] = 0\n",
    "    for k in range(N):\n",
    "        for vx in range(1, N+1):\n",
    "            for nx, nc in graph[vx]:\n",
    "                new_cost = nc + cost[vx]\n",
    "                if new_cost < cost[nx]:\n",
    "                    cost[nx] = new_cost\n",
    "                    if k == N-1:\n",
    "                        return 1\n",
    "    return 0\n",
    "    \n",
    "N = 10\n",
    "INF = 1e+9\n",
    "cost = [INF]*(N+1)"
   ],
   "id": "43cb4bca7db44b75"
  }
 ],
 "metadata": {
  "kernelspec": {
   "display_name": "Python 3",
   "language": "python",
   "name": "python3"
  },
  "language_info": {
   "codemirror_mode": {
    "name": "ipython",
    "version": 2
   },
   "file_extension": ".py",
   "mimetype": "text/x-python",
   "name": "python",
   "nbconvert_exporter": "python",
   "pygments_lexer": "ipython2",
   "version": "2.7.6"
  }
 },
 "nbformat": 4,
 "nbformat_minor": 5
}
