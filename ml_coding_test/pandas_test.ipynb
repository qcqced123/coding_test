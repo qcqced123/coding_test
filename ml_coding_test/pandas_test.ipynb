{
 "cells": [
  {
   "cell_type": "code",
   "id": "initial_id",
   "metadata": {
    "collapsed": true
   },
   "source": [
    "\"\"\" pandas review point\n",
    "1) 조인, 합성 관련 메서드\n",
    "2) 통계값 관련 메서드\n",
    "3) 시각화 관련 메서드\n",
    "4) 전처리, 피처 엔지니어링 메서드\n",
    "5) 시간 다루기, 시간 조건에 맞는 특정 유저 찾기 (0)\n",
    "\"\"\""
   ],
   "outputs": [],
   "execution_count": null
  },
  {
   "metadata": {},
   "cell_type": "code",
   "source": [
    "import warnings\n",
    "import numpy as np\n",
    "import pandas as pd\n",
    "import datetime as dt"
   ],
   "id": "7b31a9dae440f57b",
   "outputs": [],
   "execution_count": null
  },
  {
   "metadata": {},
   "cell_type": "code",
   "source": [
    "\"\"\" binary classification binary_classification\n",
    "resource from:\n",
    "    https://www.kaggle.com/datasets/nelgiriyewithana/credit-card-fraud-detection-dataset-2023\n",
    "    https://www.kaggle.com/datasets/shriyashjagtap/e-commerce-customer-for-behavior-analysis?select=ecommerce_customer_data_large.csv\n",
    "\"\"\"\n",
    "\n",
    "PATH = \"binary_classification/ecommerce_customer_data_large.csv\"\n",
    "df = pd.read_csv(PATH)\n",
    "df"
   ],
   "id": "686c19a6dd54a0e1",
   "outputs": [],
   "execution_count": null
  },
  {
   "metadata": {},
   "cell_type": "code",
   "source": [
    "\"\"\" preprocess the datetime in dataframe\n",
    "1) string 형태의 시간 데이터가 담긴 컬럼에 대해서 to_datetime() 적용\n",
    "2) 새롭게 생성된 datetime 컬럼에서 date, time 추출\n",
    "    - date: 년도, 월, 일\n",
    "    - time: 시간, 분, 초\n",
    "    => 리턴 타입은 string\n",
    "    => 이렇게 시간 분리해두니까 깔끔해지네\n",
    "    \n",
    "Reference:\n",
    "    https://sarah0518.tistory.com/61\n",
    "\"\"\"\n",
    "df[\"dt\"] = pd.to_datetime(\n",
    "    df[\"Purchase Date\"],\n",
    "    format=\"%Y-%m-%d %H:%M\",\n",
    "    errors='raise'\n",
    ")\n",
    "df['date'] = df['dt'].dt.date\n",
    "df['year'] = df['dt'].dt.year\n",
    "df['month'] = df['dt'].dt.month\n",
    "df[\"day\"] = df['dt'].dt.day\n",
    "df['time'] = df['dt'].dt.time\n",
    "df"
   ],
   "id": "e4733ef0338686bb",
   "outputs": [],
   "execution_count": null
  },
  {
   "metadata": {},
   "cell_type": "code",
   "source": [
    "\"\"\" make the filtering func by using time\n",
    "1) 서로 다른 날에 한 번 이상씩 구매한 사람 세기\n",
    "    - 그땐 해당 아이디 리스트가 등장한 날짜를 계속 세트에 넣고, 세트 길이가 2 이상인 애들만 활성유저로 사용 했는데\n",
    "    - 지금 생각해보면, 아래 조건에 맞게 월별로 리스트를 찾고, 리스트로 루프 돌리는게 맞을 듯\n",
    "        - 저렇게 하면 선형 시간에 찾을 수 있는데\n",
    "        - 이제 월별로 바꾸면 시간 복잡도는 O(k•N)  그래도 이중 루프는 아님! \n",
    "\"\"\"\n",
    "from tqdm.auto import tqdm\n",
    "\n",
    "\n",
    "# df[df['date'].astype(\"str\") >= \"2023-05-03\"][\"Customer ID\"]\n",
    "cnt_df = df[(df[\"year\"] == 2023) & (df[\"month\"] == 5)]\n",
    "id_list = cnt_df[\"Customer ID\"].unique()  # 이렇게 하면 넘파이 배열 나오니까 인덱싱 사용하면, 시간 복잡도를 상수 시간으로 변경\n",
    "\n",
    "\n",
    "for i in range(1, 13):\n",
    "    MAU = 0\n",
    "    MAU_list = []\n",
    "    cnt_df = df[(df[\"year\"] == 2023) & (df[\"month\"] == i)]\n",
    "    try:\n",
    "        print(cnt_df[(cnt_df[\"Customer ID\"] == 45089) & (cnt_df[\"year\"] == 2023) & (cnt_df[\"month\"] == 1)])\n",
    "    except:\n",
    "        pass\n",
    "        \n",
    "    for id in tqdm(id_list):\n",
    "        if len(cnt_df[cnt_df[\"Customer ID\"] == id]['day'].unique()) > 1:\n",
    "            MAU += 1\n",
    "            MAU_list.append(id)\n",
    "\n",
    "    print(f\"2023.{i}'s MAU is: {MAU}\")\n",
    "    print(f\"2023.{i}'s MAU id is: {MAU_list}\")"
   ],
   "id": "c252cca54e24eccc",
   "outputs": [],
   "execution_count": null
  },
  {
   "metadata": {},
   "cell_type": "code",
   "source": [
    "\"\"\" check the basic statistic information about dataframe \"\"\"\n",
    "\n",
    "df.info(), df.describe()"
   ],
   "id": "69bc0c079058e7eb",
   "outputs": [],
   "execution_count": null
  },
  {
   "metadata": {},
   "cell_type": "code",
   "source": [
    "\"\"\" multi-index by using set_index() \"\"\"\n",
    "\n",
    "df.set_index(['V1', 'V2'], inplace=True)  # set the multi-index\n",
    "df.reset_index(inplace=True, drop=True)  # undo the multi-index"
   ],
   "id": "b98632373061d19f",
   "outputs": [],
   "execution_count": null
  },
  {
   "metadata": {},
   "cell_type": "code",
   "source": "",
   "id": "55ac2048d7ea447c",
   "outputs": [],
   "execution_count": null
  },
  {
   "metadata": {},
   "cell_type": "code",
   "source": [
    "\"\"\" use fillna, fillna drop \"\"\"\n",
    "\n",
    "df.dropna(subset=df.columns, inplace=True)\n",
    "df"
   ],
   "id": "182dce971b50503c",
   "outputs": [],
   "execution_count": null
  },
  {
   "metadata": {},
   "cell_type": "code",
   "source": [
    "\"\"\" inner join, outer join, left join, right join \"\"\"\n",
    "\n",
    "\n",
    "df1 = pd.DataFrame({\n",
    "    'ID': [1, 2, 3, 4],\n",
    "    'Name': ['Alice', 'Bob', 'Charlie', 'David']\n",
    "})\n",
    "df2 = pd.DataFrame({\n",
    "    'ID': [3, 4, 5, 6],\n",
    "    'Age': [24, 27, 22, 32]\n",
    "})\n",
    "\n",
    "# natural join: 교집합, 동시에 존재하는 키값만 결과에 포함\n",
    "inner_result = pd.merge(\n",
    "    df1, \n",
    "    df2,\n",
    "    how=\"inner\",\n",
    "    on=\"ID\"  # natural join\n",
    ")\n",
    "\n",
    "# outer join: 합집합\n",
    "outer_result = pd.merge(\n",
    "    df1,\n",
    "    df2,\n",
    "    how=\"outer\",\n",
    "    on=\"ID\"\n",
    ")\n",
    "\n",
    "# left join: 왼쪽 데이터프레임 기준으로 병합\n",
    "left_result = pd.merge(\n",
    "    df1,\n",
    "    df2,\n",
    "    how=\"left\",\n",
    "    on=\"ID\"\n",
    ")\n",
    "\n",
    "# right join: 오른쪽 데이터프레임 기준 병합\n",
    "right_result = pd.merge(\n",
    "    df1,\n",
    "    df2,\n",
    "    how=\"right\",\n",
    "    on=\"ID\"\n",
    ")\n",
    "\n",
    "# concat: 단순 병합\n",
    "# 병합 축 설정에 따라서 결과 상이\n",
    "concat_result = pd.concat(\n",
    "    [df1, df2],\n",
    "    axis=0\n",
    ")"
   ],
   "id": "1bd4395c5c061a77",
   "outputs": [],
   "execution_count": null
  },
  {
   "metadata": {},
   "cell_type": "code",
   "source": "inner_result",
   "id": "f49230e49ace3cb1",
   "outputs": [],
   "execution_count": null
  },
  {
   "metadata": {},
   "cell_type": "code",
   "source": "outer_result",
   "id": "2b48f71b49133a9b",
   "outputs": [],
   "execution_count": null
  },
  {
   "metadata": {},
   "cell_type": "code",
   "source": "left_result",
   "id": "b982ac50c5b21740",
   "outputs": [],
   "execution_count": null
  },
  {
   "metadata": {},
   "cell_type": "code",
   "source": "right_result",
   "id": "9024fed15cc59ec6",
   "outputs": [],
   "execution_count": null
  },
  {
   "metadata": {},
   "cell_type": "code",
   "source": "concat_result",
   "id": "df12b351228f776b",
   "outputs": [],
   "execution_count": null
  },
  {
   "metadata": {},
   "cell_type": "code",
   "source": [
    "\"\"\" data type casting \"\"\"\n",
    "\n",
    "df['V1'] = df['V1'].astype(int)\n",
    "df.info()"
   ],
   "id": "5ff8ff59a0c1260b",
   "outputs": [],
   "execution_count": null
  },
  {
   "metadata": {},
   "cell_type": "code",
   "source": [
    "\"\"\" use groupby \"\"\"\n",
    "\n",
    "df3 = pd.DataFrame({\n",
    "    'Category': ['A', 'A', 'B', 'B', 'C', 'C', 'A', 'B'],\n",
    "    'Type': ['one', 'two', 'one', 'two', 'one', 'two', 'one', 'two'],\n",
    "    'Value1': [10, 20, 10, 40, 50, 60, 70, 80],\n",
    "    'Value2': [1.5, 2.5, 3.5, 4.5, 5.5, 6.5, 7.5, 8.5]\n",
    "})\n",
    "df3"
   ],
   "id": "88db8bb3e541c1fc",
   "outputs": [],
   "execution_count": null
  },
  {
   "metadata": {},
   "cell_type": "code",
   "source": [
    "df3.groupby(['Category', \"Type\"]).agg({\n",
    "    \"Value1\": [\"sum\", \"mean\", \"std\"],\n",
    "    \"Value2\": [\"sum\", \"mean\", \"std\"]\n",
    "})"
   ],
   "id": "4397b373161d2363",
   "outputs": [],
   "execution_count": null
  },
  {
   "metadata": {},
   "cell_type": "code",
   "source": [
    "df3.groupby(['Category']).agg({\n",
    "    \"Value1\": [\"sum\", \"mean\", \"std\"],\n",
    "    \"Value2\": [\"sum\", \"mean\", \"std\"]\n",
    "})"
   ],
   "id": "c56cc182f66321cd",
   "outputs": [],
   "execution_count": null
  },
  {
   "metadata": {},
   "cell_type": "code",
   "source": "df3.groupby([\"Category\"])[[\"Value1\", \"Value2\"]].sum()",
   "id": "567773456ae975f9",
   "outputs": [],
   "execution_count": null
  },
  {
   "metadata": {},
   "cell_type": "code",
   "source": [
    "sum_df = df3.groupby([\"Category\"])[[\"Value1\", \"Value2\"]]\n",
    "sum_df.size()"
   ],
   "id": "f81138b2ce6383a8",
   "outputs": [],
   "execution_count": null
  },
  {
   "metadata": {},
   "cell_type": "code",
   "source": [
    "filter_df = df3.groupby([\"Category\"]).filter(lambda x: x.Value1.sum() >= 130)\n",
    "filter_df"
   ],
   "id": "7e2d59fddf56f50e",
   "outputs": [],
   "execution_count": null
  },
  {
   "metadata": {},
   "cell_type": "code",
   "source": "filter_df.groupby([\"Category\"])[[\"Value1\", \"Value2\"]].sum()",
   "id": "1aa681c6de9b0574",
   "outputs": [],
   "execution_count": null
  },
  {
   "metadata": {},
   "cell_type": "code",
   "source": "df3.groupby([\"Category\", \"Type\"]).mean()",
   "id": "1e0d8aa05a67a45b",
   "outputs": [],
   "execution_count": null
  },
  {
   "metadata": {},
   "cell_type": "code",
   "source": "df3.groupby([\"Category\", \"Type\"])[[\"Value1\"]].sum().unstack()",
   "id": "17adca8a89c224d0",
   "outputs": [],
   "execution_count": null
  },
  {
   "metadata": {},
   "cell_type": "code",
   "source": "",
   "id": "85e409b7bf8e1480",
   "outputs": [],
   "execution_count": null
  }
 ],
 "metadata": {
  "kernelspec": {
   "display_name": "Python 3",
   "language": "python",
   "name": "python3"
  },
  "language_info": {
   "codemirror_mode": {
    "name": "ipython",
    "version": 2
   },
   "file_extension": ".py",
   "mimetype": "text/x-python",
   "name": "python",
   "nbconvert_exporter": "python",
   "pygments_lexer": "ipython2",
   "version": "2.7.6"
  }
 },
 "nbformat": 4,
 "nbformat_minor": 5
}
