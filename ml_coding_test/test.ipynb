{
 "cells": [
  {
   "cell_type": "code",
   "execution_count": null,
   "id": "initial_id",
   "metadata": {
    "collapsed": true
   },
   "outputs": [],
   "source": [
    "import warnings\n",
    "import numpy as np\n",
    "import pandas as pd\n",
    "import datetime as dt\n",
    "import seaborn as sns\n",
    "import matplotlib.pyplot as plt\n",
    "import matplotlib.gridspec as gridspec\n",
    "\n",
    "from tqdm.notebook import tqdm\n",
    "from sklearn.model_selection import StratifiedKFold, RandomizedSearchCV\n",
    "from sklearn.inspection import permutation_importance\n",
    "from sklearn.feature_selection import mutual_info_classif\n",
    "from sklearn.ensemble import HistGradientBoostingClassifier\n",
    "from sklearn.metrics import log_loss, accuracy_score, f1_score, precision_score, recall_score\n",
    "warnings.filterwarnings(\"ignore\")"
   ]
  },
  {
   "metadata": {},
   "cell_type": "code",
   "outputs": [],
   "execution_count": null,
   "source": [
    "class CFG:\n",
    "    seed=2024\n",
    "    n_folds=10\n",
    "    basic_param={\n",
    "        \"loss\": \"log_loss\",\n",
    "        \"learning_rate\": 1e-1,\n",
    "        \"max_depth\": 20,\n",
    "        \"max_iter\": 1500,\n",
    "        \"max_leaf_nodes\": 63,\n",
    "        \"l2_regularization\": 1e-1,\n",
    "        \"early_stopping\": True,\n",
    "        \"random_state\": seed,\n",
    "        \"class_weight\": \"balanced\"\n",
    "    }\n",
    "    best_param={\n",
    "        \"loss\": \"log_loss\",\n",
    "        \"learning_rate\": 1e-1,\n",
    "        \"max_depth\": 20,\n",
    "        \"max_iter\": 1500,\n",
    "        \"max_leaf_nodes\": 63,\n",
    "        \"l2_regularization\": 1e-1,\n",
    "        \"early_stopping\": True,\n",
    "        \"random_state\": seed,\n",
    "        \"class_weight\": \"balanced\"\n",
    "    }\n",
    "    cols_to_drop = []\n",
    "    test_cols_to_drop = []  # fold, target class 제외 cols_to_drop이랑 동일하게 \n",
    "    "
   ],
   "id": "8ef16b08c2e044ef"
  }
 ],
 "metadata": {
  "kernelspec": {
   "display_name": "Python 3",
   "language": "python",
   "name": "python3"
  },
  "language_info": {
   "codemirror_mode": {
    "name": "ipython",
    "version": 2
   },
   "file_extension": ".py",
   "mimetype": "text/x-python",
   "name": "python",
   "nbconvert_exporter": "python",
   "pygments_lexer": "ipython2",
   "version": "2.7.6"
  }
 },
 "nbformat": 4,
 "nbformat_minor": 5
}
