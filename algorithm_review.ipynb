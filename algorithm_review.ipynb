{
 "cells": [
  {
   "cell_type": "code",
   "execution_count": 1,
   "id": "initial_id",
   "metadata": {
    "collapsed": true,
    "ExecuteTime": {
     "end_time": "2024-01-16T13:41:09.201547Z",
     "start_time": "2024-01-16T13:41:09.198037Z"
    }
   },
   "outputs": [],
   "source": [
    "import sys\n",
    "from typing import List, Tuple"
   ]
  },
  {
   "cell_type": "code",
   "outputs": [
    {
     "name": "stdout",
     "output_type": "stream",
     "text": [
      "1 2 7 6 8 3 4 5 "
     ]
    }
   ],
   "source": [
    "\"\"\" DFS Algorithm: recursive call\n",
    "1) init recursion limit in python\n",
    "2) select start node\n",
    "3) change visit FLAG for start node\n",
    "4) iter to linked list for start node\n",
    "5) recursive call to node in linked list for start node, if this node is not visited (FLAG = False)\n",
    "\"\"\"\n",
    "\n",
    "sys.setrecursionlimit(10**6)\n",
    "start_node = 0\n",
    "visit = [False for _ in range(9)]\n",
    "graph = (\n",
    "    (),\n",
    "    (2, 3, 8),\n",
    "    (1, 7),\n",
    "    (1, 4, 5),\n",
    "    (3, 5),\n",
    "    (3, 4),\n",
    "    [7],\n",
    "    (2, 6, 8),\n",
    "    (1, 7),\n",
    ")  # immutable object: 가능 하다면 튜플로 선언, \n",
    "\n",
    "def dfs(src: int, visited: Tuple) -> None:\n",
    "    visited[src] = True\n",
    "    print(src, end=\" \")\n",
    "    for next_node in graph[src]:\n",
    "        if not visited[next_node]:\n",
    "            dfs(next_node, visited)\n",
    "\n",
    "dfs(1, visit)"
   ],
   "metadata": {
    "collapsed": false,
    "ExecuteTime": {
     "end_time": "2024-01-16T13:41:09.209926Z",
     "start_time": "2024-01-16T13:41:09.203574Z"
    }
   },
   "id": "ecfa7920681e918",
   "execution_count": 2
  },
  {
   "cell_type": "code",
   "outputs": [
    {
     "name": "stdout",
     "output_type": "stream",
     "text": [
      "1 2 3 8 7 4 5 6 "
     ]
    }
   ],
   "source": [
    "\"\"\" BFS Algorithm\n",
    "1) init data structure: from collections import deque\n",
    "2) select start node\n",
    "3) change visit FLAG to start node\n",
    "4) insert start node to deque\n",
    "5) enter while loop\n",
    "    - popleft out in deque\n",
    "    - iter to linked list for popleft out node\n",
    "        - if next nodes are not visited\n",
    "            - change visit FLAG to popleft out node\n",
    "            - insert this node into deque\n",
    "\"\"\"\n",
    "from collections import deque\n",
    "\n",
    "visit = [False for _ in range(9)]\n",
    "def bfs(src: int, visited: Tuple) -> None:\n",
    "    visited[src] = True\n",
    "    q = deque([])\n",
    "    q.append(src)\n",
    "    while q:\n",
    "        node = q.popleft()\n",
    "        print(node, end=' ')\n",
    "        for next_node in graph[node]:\n",
    "            if not visited[next_node]:\n",
    "                visited[next_node] = True\n",
    "                q.append(next_node)\n",
    "                \n",
    "bfs(1, visit)"
   ],
   "metadata": {
    "collapsed": false,
    "ExecuteTime": {
     "end_time": "2024-01-16T13:41:09.210573Z",
     "start_time": "2024-01-16T13:41:09.207685Z"
    }
   },
   "id": "5976383e265de6b4",
   "execution_count": 3
  },
  {
   "cell_type": "code",
   "outputs": [
    {
     "name": "stdout",
     "output_type": "stream",
     "text": [
      "num of iter: 0\n",
      "current longest state: bab\n",
      "num of iter: 1\n",
      "current longest state: bab\n",
      "num of iter: 2\n",
      "current longest state: abba\n",
      "num of iter: 3\n",
      "current longest state: abba\n"
     ]
    },
    {
     "data": {
      "text/plain": "'abba'"
     },
     "execution_count": 4,
     "metadata": {},
     "output_type": "execute_result"
    }
   ],
   "source": [
    "def longest_palindrome(inputs: str) -> str:\n",
    "    \"\"\" Sliding Window Algorithm\n",
    "    1) init two window pointer\n",
    "        - size: odd, even => 3, 2\n",
    "    2) start at most left of string\n",
    "    3) iter:\n",
    "        - check if current state is palindrome or will be expanded state is palindrome\n",
    "            - True: expand and check again current state, until not palindrome\n",
    "            - False: save current state's length, init size of two window pointer, slide window\n",
    "        - handling exception:\n",
    "            1) given word is already palindrome\n",
    "            2) given word's length is 1\n",
    "\"\"\"\n",
    "    def expand(left: int, right: int) -> str:\n",
    "        while left >= 0 and right < len(inputs) and inputs[left] == inputs[right]:\n",
    "            left -= 1\n",
    "            right += 1\n",
    "        return inputs[left+1:right]\n",
    "    \n",
    "    \n",
    "    if len(inputs) < 2 or inputs == inputs[::-1]:\n",
    "        return inputs\n",
    "    \n",
    "    result = ''\n",
    "    for i in range(len(inputs)-1):\n",
    "        result = max(\n",
    "            result,\n",
    "            expand(i, i+1),\n",
    "            expand(i, i+2),\n",
    "            key=len\n",
    "        )\n",
    "        print(f\"num of iter: {i}\")\n",
    "        print(f\"current longest state: {result}\")\n",
    "    return result\n",
    "\n",
    "word = 'babba'\n",
    "longest_palindrome(word)"
   ],
   "metadata": {
    "collapsed": false,
    "ExecuteTime": {
     "end_time": "2024-01-16T13:41:09.220996Z",
     "start_time": "2024-01-16T13:41:09.214416Z"
    }
   },
   "id": "33561b9bd77c4cce",
   "execution_count": 4
  },
  {
   "cell_type": "code",
   "outputs": [
    {
     "data": {
      "text/plain": "'mirkovniz'"
     },
     "execution_count": 5,
     "metadata": {},
     "output_type": "execute_result"
    }
   ],
   "source": [
    "def remove_target_text(inputs: str, target: str) -> str:\n",
    "    \"\"\" stack implementation in python for detecting & removing target text in given word or sequence\n",
    "    1) init empty list\n",
    "    2) insert, expand, append stream inputs to empty list\n",
    "    3) do anything at most right part of inputs\n",
    "    \"\"\"\n",
    "    stack = []\n",
    "    for char in inputs:\n",
    "        stack.append(char)\n",
    "        if target == ''.join(stack[-len(target):]):\n",
    "            del stack[-len(target):]\n",
    "    result = ''.join(stack) if len(stack) else \"FRULA\"\n",
    "    return result\n",
    "\n",
    "\n",
    "text = 'mirkovC4nizCC44'\n",
    "bomb = 'C4'\n",
    "remove_target_text(text, bomb)"
   ],
   "metadata": {
    "collapsed": false,
    "ExecuteTime": {
     "end_time": "2024-01-16T13:41:09.238595Z",
     "start_time": "2024-01-16T13:41:09.218848Z"
    }
   },
   "id": "d41a1f83cfe8eac",
   "execution_count": 5
  },
  {
   "cell_type": "code",
   "outputs": [],
   "source": [
    "\n",
    "import heapq\n",
    "\n",
    "def dijkstra(src: int, distance: List[int]) -> None:\n",
    "    \"\"\" dijkstra algorithm: src node to rest of nodes\n",
    "    1) select start node (o)\n",
    "    2) init shortest-table (o)\n",
    "        - start node are zero-init \n",
    "    3) select shortest-cost which is visit FLAG == False\n",
    "        - selecting algorithm must be implemented with heapq\n",
    "        - heapq sort guarantee max or min element sorting \n",
    "        - linear search will be restricted b time limit\n",
    "    4) update additional path, created by current shortest path (o)\n",
    "        - compare updated path's cost & past updated path\n",
    "    5) iter above steps until complete\n",
    "    \"\"\"\n",
    "    h = []\n",
    "    heapq.heappush(h, (distance[src], src))\n",
    "    while h:\n",
    "        min_cost, node = heapq.heappop(h)\n",
    "        for i in graph[node]:\n",
    "            curr_cost, curr_node = i[0], i[1]\n",
    "            cost = min_cost + curr_cost\n",
    "            if cost < distance[curr_node]:\n",
    "                distance[curr_node] = cost\n",
    "                heapq.heappush(h, (cost, curr_node))"
   ],
   "metadata": {
    "collapsed": false,
    "ExecuteTime": {
     "end_time": "2024-01-15T15:37:35.901513Z",
     "start_time": "2024-01-15T15:37:35.898572Z"
    }
   },
   "id": "a8f65377f7cc3225",
   "execution_count": 9
  },
  {
   "cell_type": "markdown",
   "source": [],
   "metadata": {
    "collapsed": false
   },
   "id": "8676a6404a9f32f2"
  },
  {
   "cell_type": "code",
   "outputs": [],
   "source": [],
   "metadata": {
    "collapsed": false
   },
   "id": "3a2ae38e94090e54"
  }
 ],
 "metadata": {
  "kernelspec": {
   "display_name": "Python 3",
   "language": "python",
   "name": "python3"
  },
  "language_info": {
   "codemirror_mode": {
    "name": "ipython",
    "version": 2
   },
   "file_extension": ".py",
   "mimetype": "text/x-python",
   "name": "python",
   "nbconvert_exporter": "python",
   "pygments_lexer": "ipython2",
   "version": "2.7.6"
  }
 },
 "nbformat": 4,
 "nbformat_minor": 5
}
